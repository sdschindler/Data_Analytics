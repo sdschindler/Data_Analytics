{
 "cells": [
  {
   "cell_type": "code",
   "execution_count": 1,
   "id": "3a089cbc",
   "metadata": {},
   "outputs": [
    {
     "name": "stdout",
     "output_type": "stream",
     "text": [
      "<class 'pandas.core.frame.DataFrame'>\n",
      "RangeIndex: 10000 entries, 0 to 9999\n",
      "Data columns (total 52 columns):\n",
      " #   Column                Non-Null Count  Dtype  \n",
      "---  ------                --------------  -----  \n",
      " 0   Unnamed: 0            10000 non-null  int64  \n",
      " 1   CaseOrder             10000 non-null  int64  \n",
      " 2   Customer_id           10000 non-null  object \n",
      " 3   Interaction           10000 non-null  object \n",
      " 4   City                  10000 non-null  object \n",
      " 5   State                 10000 non-null  object \n",
      " 6   County                10000 non-null  object \n",
      " 7   Zip                   10000 non-null  int64  \n",
      " 8   Lat                   10000 non-null  float64\n",
      " 9   Lng                   10000 non-null  float64\n",
      " 10  Population            10000 non-null  int64  \n",
      " 11  Area                  10000 non-null  object \n",
      " 12  Timezone              10000 non-null  object \n",
      " 13  Job                   10000 non-null  object \n",
      " 14  Children              7505 non-null   float64\n",
      " 15  Age                   7525 non-null   float64\n",
      " 16  Education             10000 non-null  object \n",
      " 17  Employment            10000 non-null  object \n",
      " 18  Income                7510 non-null   float64\n",
      " 19  Marital               10000 non-null  object \n",
      " 20  Gender                10000 non-null  object \n",
      " 21  Churn                 10000 non-null  object \n",
      " 22  Outage_sec_perweek    10000 non-null  float64\n",
      " 23  Email                 10000 non-null  int64  \n",
      " 24  Contacts              10000 non-null  int64  \n",
      " 25  Yearly_equip_failure  10000 non-null  int64  \n",
      " 26  Techie                7523 non-null   object \n",
      " 27  Contract              10000 non-null  object \n",
      " 28  Port_modem            10000 non-null  object \n",
      " 29  Tablet                10000 non-null  object \n",
      " 30  InternetService       10000 non-null  object \n",
      " 31  Phone                 8974 non-null   object \n",
      " 32  Multiple              10000 non-null  object \n",
      " 33  OnlineSecurity        10000 non-null  object \n",
      " 34  OnlineBackup          10000 non-null  object \n",
      " 35  DeviceProtection      10000 non-null  object \n",
      " 36  TechSupport           9009 non-null   object \n",
      " 37  StreamingTV           10000 non-null  object \n",
      " 38  StreamingMovies       10000 non-null  object \n",
      " 39  PaperlessBilling      10000 non-null  object \n",
      " 40  PaymentMethod         10000 non-null  object \n",
      " 41  Tenure                9069 non-null   float64\n",
      " 42  MonthlyCharge         10000 non-null  float64\n",
      " 43  Bandwidth_GB_Year     8979 non-null   float64\n",
      " 44  item1                 10000 non-null  int64  \n",
      " 45  item2                 10000 non-null  int64  \n",
      " 46  item3                 10000 non-null  int64  \n",
      " 47  item4                 10000 non-null  int64  \n",
      " 48  item5                 10000 non-null  int64  \n",
      " 49  item6                 10000 non-null  int64  \n",
      " 50  item7                 10000 non-null  int64  \n",
      " 51  item8                 10000 non-null  int64  \n",
      "dtypes: float64(9), int64(15), object(28)\n",
      "memory usage: 4.0+ MB\n"
     ]
    }
   ],
   "source": [
    "# import the numpy and pandas libraries\n",
    "import numpy as np\n",
    "import pandas as pd\n",
    "import string as str\n",
    "\n",
    "#read in the churn data set as a pandas dataframe\n",
    "df = pd.read_csv('churn_raw_data.csv')\n",
    "df.info()"
   ]
  },
  {
   "cell_type": "code",
   "execution_count": 2,
   "id": "d78110e9",
   "metadata": {},
   "outputs": [
    {
     "data": {
      "text/html": [
       "<div>\n",
       "<style scoped>\n",
       "    .dataframe tbody tr th:only-of-type {\n",
       "        vertical-align: middle;\n",
       "    }\n",
       "\n",
       "    .dataframe tbody tr th {\n",
       "        vertical-align: top;\n",
       "    }\n",
       "\n",
       "    .dataframe thead th {\n",
       "        text-align: right;\n",
       "    }\n",
       "</style>\n",
       "<table border=\"1\" class=\"dataframe\">\n",
       "  <thead>\n",
       "    <tr style=\"text-align: right;\">\n",
       "      <th></th>\n",
       "      <th>Unnamed: 0</th>\n",
       "      <th>CaseOrder</th>\n",
       "      <th>Customer_id</th>\n",
       "      <th>Interaction</th>\n",
       "      <th>City</th>\n",
       "      <th>State</th>\n",
       "      <th>County</th>\n",
       "      <th>Zip</th>\n",
       "      <th>Lat</th>\n",
       "      <th>Lng</th>\n",
       "      <th>...</th>\n",
       "      <th>MonthlyCharge</th>\n",
       "      <th>Bandwidth_GB_Year</th>\n",
       "      <th>item1</th>\n",
       "      <th>item2</th>\n",
       "      <th>item3</th>\n",
       "      <th>item4</th>\n",
       "      <th>item5</th>\n",
       "      <th>item6</th>\n",
       "      <th>item7</th>\n",
       "      <th>item8</th>\n",
       "    </tr>\n",
       "  </thead>\n",
       "  <tbody>\n",
       "    <tr>\n",
       "      <th>0</th>\n",
       "      <td>1</td>\n",
       "      <td>1</td>\n",
       "      <td>K409198</td>\n",
       "      <td>aa90260b-4141-4a24-8e36-b04ce1f4f77b</td>\n",
       "      <td>Point Baker</td>\n",
       "      <td>AK</td>\n",
       "      <td>Prince of Wales-Hyder</td>\n",
       "      <td>99927</td>\n",
       "      <td>56.25100</td>\n",
       "      <td>-133.37571</td>\n",
       "      <td>...</td>\n",
       "      <td>171.449762</td>\n",
       "      <td>904.536110</td>\n",
       "      <td>5</td>\n",
       "      <td>5</td>\n",
       "      <td>5</td>\n",
       "      <td>3</td>\n",
       "      <td>4</td>\n",
       "      <td>4</td>\n",
       "      <td>3</td>\n",
       "      <td>4</td>\n",
       "    </tr>\n",
       "    <tr>\n",
       "      <th>1</th>\n",
       "      <td>2</td>\n",
       "      <td>2</td>\n",
       "      <td>S120509</td>\n",
       "      <td>fb76459f-c047-4a9d-8af9-e0f7d4ac2524</td>\n",
       "      <td>West Branch</td>\n",
       "      <td>MI</td>\n",
       "      <td>Ogemaw</td>\n",
       "      <td>48661</td>\n",
       "      <td>44.32893</td>\n",
       "      <td>-84.24080</td>\n",
       "      <td>...</td>\n",
       "      <td>242.948015</td>\n",
       "      <td>800.982766</td>\n",
       "      <td>3</td>\n",
       "      <td>4</td>\n",
       "      <td>3</td>\n",
       "      <td>3</td>\n",
       "      <td>4</td>\n",
       "      <td>3</td>\n",
       "      <td>4</td>\n",
       "      <td>4</td>\n",
       "    </tr>\n",
       "    <tr>\n",
       "      <th>2</th>\n",
       "      <td>3</td>\n",
       "      <td>3</td>\n",
       "      <td>K191035</td>\n",
       "      <td>344d114c-3736-4be5-98f7-c72c281e2d35</td>\n",
       "      <td>Yamhill</td>\n",
       "      <td>OR</td>\n",
       "      <td>Yamhill</td>\n",
       "      <td>97148</td>\n",
       "      <td>45.35589</td>\n",
       "      <td>-123.24657</td>\n",
       "      <td>...</td>\n",
       "      <td>159.440398</td>\n",
       "      <td>2054.706961</td>\n",
       "      <td>4</td>\n",
       "      <td>4</td>\n",
       "      <td>2</td>\n",
       "      <td>4</td>\n",
       "      <td>4</td>\n",
       "      <td>3</td>\n",
       "      <td>3</td>\n",
       "      <td>3</td>\n",
       "    </tr>\n",
       "    <tr>\n",
       "      <th>3</th>\n",
       "      <td>4</td>\n",
       "      <td>4</td>\n",
       "      <td>D90850</td>\n",
       "      <td>abfa2b40-2d43-4994-b15a-989b8c79e311</td>\n",
       "      <td>Del Mar</td>\n",
       "      <td>CA</td>\n",
       "      <td>San Diego</td>\n",
       "      <td>92014</td>\n",
       "      <td>32.96687</td>\n",
       "      <td>-117.24798</td>\n",
       "      <td>...</td>\n",
       "      <td>120.249493</td>\n",
       "      <td>2164.579412</td>\n",
       "      <td>4</td>\n",
       "      <td>4</td>\n",
       "      <td>4</td>\n",
       "      <td>2</td>\n",
       "      <td>5</td>\n",
       "      <td>4</td>\n",
       "      <td>3</td>\n",
       "      <td>3</td>\n",
       "    </tr>\n",
       "    <tr>\n",
       "      <th>4</th>\n",
       "      <td>5</td>\n",
       "      <td>5</td>\n",
       "      <td>K662701</td>\n",
       "      <td>68a861fd-0d20-4e51-a587-8a90407ee574</td>\n",
       "      <td>Needville</td>\n",
       "      <td>TX</td>\n",
       "      <td>Fort Bend</td>\n",
       "      <td>77461</td>\n",
       "      <td>29.38012</td>\n",
       "      <td>-95.80673</td>\n",
       "      <td>...</td>\n",
       "      <td>150.761216</td>\n",
       "      <td>271.493436</td>\n",
       "      <td>4</td>\n",
       "      <td>4</td>\n",
       "      <td>4</td>\n",
       "      <td>3</td>\n",
       "      <td>4</td>\n",
       "      <td>4</td>\n",
       "      <td>4</td>\n",
       "      <td>5</td>\n",
       "    </tr>\n",
       "  </tbody>\n",
       "</table>\n",
       "<p>5 rows × 52 columns</p>\n",
       "</div>"
      ],
      "text/plain": [
       "   Unnamed: 0  CaseOrder Customer_id                           Interaction  \\\n",
       "0           1          1     K409198  aa90260b-4141-4a24-8e36-b04ce1f4f77b   \n",
       "1           2          2     S120509  fb76459f-c047-4a9d-8af9-e0f7d4ac2524   \n",
       "2           3          3     K191035  344d114c-3736-4be5-98f7-c72c281e2d35   \n",
       "3           4          4      D90850  abfa2b40-2d43-4994-b15a-989b8c79e311   \n",
       "4           5          5     K662701  68a861fd-0d20-4e51-a587-8a90407ee574   \n",
       "\n",
       "          City State                 County    Zip       Lat        Lng  ...  \\\n",
       "0  Point Baker    AK  Prince of Wales-Hyder  99927  56.25100 -133.37571  ...   \n",
       "1  West Branch    MI                 Ogemaw  48661  44.32893  -84.24080  ...   \n",
       "2      Yamhill    OR                Yamhill  97148  45.35589 -123.24657  ...   \n",
       "3      Del Mar    CA              San Diego  92014  32.96687 -117.24798  ...   \n",
       "4    Needville    TX              Fort Bend  77461  29.38012  -95.80673  ...   \n",
       "\n",
       "   MonthlyCharge Bandwidth_GB_Year item1 item2  item3  item4 item5 item6  \\\n",
       "0     171.449762        904.536110     5     5      5      3     4     4   \n",
       "1     242.948015        800.982766     3     4      3      3     4     3   \n",
       "2     159.440398       2054.706961     4     4      2      4     4     3   \n",
       "3     120.249493       2164.579412     4     4      4      2     5     4   \n",
       "4     150.761216        271.493436     4     4      4      3     4     4   \n",
       "\n",
       "   item7 item8  \n",
       "0      3     4  \n",
       "1      4     4  \n",
       "2      3     3  \n",
       "3      3     3  \n",
       "4      4     5  \n",
       "\n",
       "[5 rows x 52 columns]"
      ]
     },
     "execution_count": 2,
     "metadata": {},
     "output_type": "execute_result"
    }
   ],
   "source": [
    "#get an inital look at the data\n",
    "df.head()\n",
    "\n"
   ]
  },
  {
   "cell_type": "code",
   "execution_count": 3,
   "id": "43d6c380",
   "metadata": {},
   "outputs": [
    {
     "data": {
      "text/plain": [
       "True"
      ]
     },
     "execution_count": 3,
     "metadata": {},
     "output_type": "execute_result"
    }
   ],
   "source": [
    "#check to see if the first column is identical to CaseOrder\n",
    "df['Unnamed: 0'].equals(df['CaseOrder'])"
   ]
  },
  {
   "cell_type": "code",
   "execution_count": 4,
   "id": "1a703888",
   "metadata": {},
   "outputs": [
    {
     "data": {
      "text/html": [
       "<div>\n",
       "<style scoped>\n",
       "    .dataframe tbody tr th:only-of-type {\n",
       "        vertical-align: middle;\n",
       "    }\n",
       "\n",
       "    .dataframe tbody tr th {\n",
       "        vertical-align: top;\n",
       "    }\n",
       "\n",
       "    .dataframe thead th {\n",
       "        text-align: right;\n",
       "    }\n",
       "</style>\n",
       "<table border=\"1\" class=\"dataframe\">\n",
       "  <thead>\n",
       "    <tr style=\"text-align: right;\">\n",
       "      <th></th>\n",
       "      <th>CaseOrder</th>\n",
       "      <th>Customer_id</th>\n",
       "      <th>Interaction</th>\n",
       "      <th>City</th>\n",
       "      <th>State</th>\n",
       "      <th>County</th>\n",
       "      <th>Zip</th>\n",
       "      <th>Lat</th>\n",
       "      <th>Lng</th>\n",
       "      <th>Population</th>\n",
       "      <th>...</th>\n",
       "      <th>MonthlyCharge</th>\n",
       "      <th>Bandwidth_GB_Year</th>\n",
       "      <th>item1</th>\n",
       "      <th>item2</th>\n",
       "      <th>item3</th>\n",
       "      <th>item4</th>\n",
       "      <th>item5</th>\n",
       "      <th>item6</th>\n",
       "      <th>item7</th>\n",
       "      <th>item8</th>\n",
       "    </tr>\n",
       "  </thead>\n",
       "  <tbody>\n",
       "    <tr>\n",
       "      <th>0</th>\n",
       "      <td>1</td>\n",
       "      <td>K409198</td>\n",
       "      <td>aa90260b-4141-4a24-8e36-b04ce1f4f77b</td>\n",
       "      <td>Point Baker</td>\n",
       "      <td>AK</td>\n",
       "      <td>Prince of Wales-Hyder</td>\n",
       "      <td>99927</td>\n",
       "      <td>56.25100</td>\n",
       "      <td>-133.37571</td>\n",
       "      <td>38</td>\n",
       "      <td>...</td>\n",
       "      <td>171.449762</td>\n",
       "      <td>904.536110</td>\n",
       "      <td>5</td>\n",
       "      <td>5</td>\n",
       "      <td>5</td>\n",
       "      <td>3</td>\n",
       "      <td>4</td>\n",
       "      <td>4</td>\n",
       "      <td>3</td>\n",
       "      <td>4</td>\n",
       "    </tr>\n",
       "    <tr>\n",
       "      <th>1</th>\n",
       "      <td>2</td>\n",
       "      <td>S120509</td>\n",
       "      <td>fb76459f-c047-4a9d-8af9-e0f7d4ac2524</td>\n",
       "      <td>West Branch</td>\n",
       "      <td>MI</td>\n",
       "      <td>Ogemaw</td>\n",
       "      <td>48661</td>\n",
       "      <td>44.32893</td>\n",
       "      <td>-84.24080</td>\n",
       "      <td>10446</td>\n",
       "      <td>...</td>\n",
       "      <td>242.948015</td>\n",
       "      <td>800.982766</td>\n",
       "      <td>3</td>\n",
       "      <td>4</td>\n",
       "      <td>3</td>\n",
       "      <td>3</td>\n",
       "      <td>4</td>\n",
       "      <td>3</td>\n",
       "      <td>4</td>\n",
       "      <td>4</td>\n",
       "    </tr>\n",
       "    <tr>\n",
       "      <th>2</th>\n",
       "      <td>3</td>\n",
       "      <td>K191035</td>\n",
       "      <td>344d114c-3736-4be5-98f7-c72c281e2d35</td>\n",
       "      <td>Yamhill</td>\n",
       "      <td>OR</td>\n",
       "      <td>Yamhill</td>\n",
       "      <td>97148</td>\n",
       "      <td>45.35589</td>\n",
       "      <td>-123.24657</td>\n",
       "      <td>3735</td>\n",
       "      <td>...</td>\n",
       "      <td>159.440398</td>\n",
       "      <td>2054.706961</td>\n",
       "      <td>4</td>\n",
       "      <td>4</td>\n",
       "      <td>2</td>\n",
       "      <td>4</td>\n",
       "      <td>4</td>\n",
       "      <td>3</td>\n",
       "      <td>3</td>\n",
       "      <td>3</td>\n",
       "    </tr>\n",
       "    <tr>\n",
       "      <th>3</th>\n",
       "      <td>4</td>\n",
       "      <td>D90850</td>\n",
       "      <td>abfa2b40-2d43-4994-b15a-989b8c79e311</td>\n",
       "      <td>Del Mar</td>\n",
       "      <td>CA</td>\n",
       "      <td>San Diego</td>\n",
       "      <td>92014</td>\n",
       "      <td>32.96687</td>\n",
       "      <td>-117.24798</td>\n",
       "      <td>13863</td>\n",
       "      <td>...</td>\n",
       "      <td>120.249493</td>\n",
       "      <td>2164.579412</td>\n",
       "      <td>4</td>\n",
       "      <td>4</td>\n",
       "      <td>4</td>\n",
       "      <td>2</td>\n",
       "      <td>5</td>\n",
       "      <td>4</td>\n",
       "      <td>3</td>\n",
       "      <td>3</td>\n",
       "    </tr>\n",
       "    <tr>\n",
       "      <th>4</th>\n",
       "      <td>5</td>\n",
       "      <td>K662701</td>\n",
       "      <td>68a861fd-0d20-4e51-a587-8a90407ee574</td>\n",
       "      <td>Needville</td>\n",
       "      <td>TX</td>\n",
       "      <td>Fort Bend</td>\n",
       "      <td>77461</td>\n",
       "      <td>29.38012</td>\n",
       "      <td>-95.80673</td>\n",
       "      <td>11352</td>\n",
       "      <td>...</td>\n",
       "      <td>150.761216</td>\n",
       "      <td>271.493436</td>\n",
       "      <td>4</td>\n",
       "      <td>4</td>\n",
       "      <td>4</td>\n",
       "      <td>3</td>\n",
       "      <td>4</td>\n",
       "      <td>4</td>\n",
       "      <td>4</td>\n",
       "      <td>5</td>\n",
       "    </tr>\n",
       "  </tbody>\n",
       "</table>\n",
       "<p>5 rows × 51 columns</p>\n",
       "</div>"
      ],
      "text/plain": [
       "   CaseOrder Customer_id                           Interaction         City  \\\n",
       "0          1     K409198  aa90260b-4141-4a24-8e36-b04ce1f4f77b  Point Baker   \n",
       "1          2     S120509  fb76459f-c047-4a9d-8af9-e0f7d4ac2524  West Branch   \n",
       "2          3     K191035  344d114c-3736-4be5-98f7-c72c281e2d35      Yamhill   \n",
       "3          4      D90850  abfa2b40-2d43-4994-b15a-989b8c79e311      Del Mar   \n",
       "4          5     K662701  68a861fd-0d20-4e51-a587-8a90407ee574    Needville   \n",
       "\n",
       "  State                 County    Zip       Lat        Lng  Population  ...  \\\n",
       "0    AK  Prince of Wales-Hyder  99927  56.25100 -133.37571          38  ...   \n",
       "1    MI                 Ogemaw  48661  44.32893  -84.24080       10446  ...   \n",
       "2    OR                Yamhill  97148  45.35589 -123.24657        3735  ...   \n",
       "3    CA              San Diego  92014  32.96687 -117.24798       13863  ...   \n",
       "4    TX              Fort Bend  77461  29.38012  -95.80673       11352  ...   \n",
       "\n",
       "  MonthlyCharge Bandwidth_GB_Year item1  item2  item3 item4 item5  item6  \\\n",
       "0    171.449762        904.536110     5      5      5     3     4      4   \n",
       "1    242.948015        800.982766     3      4      3     3     4      3   \n",
       "2    159.440398       2054.706961     4      4      2     4     4      3   \n",
       "3    120.249493       2164.579412     4      4      4     2     5      4   \n",
       "4    150.761216        271.493436     4      4      4     3     4      4   \n",
       "\n",
       "  item7 item8  \n",
       "0     3     4  \n",
       "1     4     4  \n",
       "2     3     3  \n",
       "3     3     3  \n",
       "4     4     5  \n",
       "\n",
       "[5 rows x 51 columns]"
      ]
     },
     "execution_count": 4,
     "metadata": {},
     "output_type": "execute_result"
    }
   ],
   "source": [
    "\n",
    "#it returns true so we can drop the first unnamed column\n",
    "new_df = df.drop(['Unnamed: 0'], axis=1)\n",
    "\n",
    "#replace non asci characters\n",
    "new_df.replace({r'[^\\x00-\\x7F]+':''}, regex=True, inplace=True)\n",
    "\n",
    "new_df.head()"
   ]
  },
  {
   "cell_type": "code",
   "execution_count": 5,
   "id": "ea73f840",
   "metadata": {},
   "outputs": [],
   "source": [
    "# make sure all the numbers that need to be rounded are consistnent\n",
    "new_df = new_df.round({'Age': 0,'Tenure':2,'MonthlyCharge':2,'Bandwidth_GB_Year':2,'Outage_sec_perweek':2,'Income':2}) # round Age to nearest integer\n"
   ]
  },
  {
   "cell_type": "code",
   "execution_count": 6,
   "id": "1edc3fb9",
   "metadata": {
    "scrolled": false
   },
   "outputs": [
    {
     "data": {
      "text/plain": [
       "CaseOrder                  0\n",
       "Customer_id                0\n",
       "Interaction                0\n",
       "City                       0\n",
       "State                      0\n",
       "County                     0\n",
       "Zip                        0\n",
       "Lat                        0\n",
       "Lng                        0\n",
       "Population                 0\n",
       "Area                       0\n",
       "Timezone                   0\n",
       "Job                        0\n",
       "Children                2495\n",
       "Age                     2475\n",
       "Education                  0\n",
       "Employment                 0\n",
       "Income                  2490\n",
       "Marital                    0\n",
       "Gender                     0\n",
       "Churn                      0\n",
       "Outage_sec_perweek         0\n",
       "Email                      0\n",
       "Contacts                   0\n",
       "Yearly_equip_failure       0\n",
       "Techie                  2477\n",
       "Contract                   0\n",
       "Port_modem                 0\n",
       "Tablet                     0\n",
       "InternetService            0\n",
       "Phone                   1026\n",
       "Multiple                   0\n",
       "OnlineSecurity             0\n",
       "OnlineBackup               0\n",
       "DeviceProtection           0\n",
       "TechSupport              991\n",
       "StreamingTV                0\n",
       "StreamingMovies            0\n",
       "PaperlessBilling           0\n",
       "PaymentMethod              0\n",
       "Tenure                   931\n",
       "MonthlyCharge              0\n",
       "Bandwidth_GB_Year       1021\n",
       "item1                      0\n",
       "item2                      0\n",
       "item3                      0\n",
       "item4                      0\n",
       "item5                      0\n",
       "item6                      0\n",
       "item7                      0\n",
       "item8                      0\n",
       "dtype: int64"
      ]
     },
     "execution_count": 6,
     "metadata": {},
     "output_type": "execute_result"
    }
   ],
   "source": [
    "# find the number of NaNs in each column\n",
    "\n",
    "new_df.isna().sum()\n",
    "\n"
   ]
  },
  {
   "cell_type": "code",
   "execution_count": 7,
   "id": "3010bd60",
   "metadata": {},
   "outputs": [],
   "source": [
    "# we see that Children,Age,Income,Techie,Phone,TechSupport,Tenure and Bandwidth_GB_Year all have NaNs"
   ]
  },
  {
   "cell_type": "code",
   "execution_count": 8,
   "id": "4d728d2b",
   "metadata": {},
   "outputs": [
    {
     "data": {
      "text/plain": [
       "CaseOrder               10000\n",
       "Customer_id             10000\n",
       "Interaction             10000\n",
       "City                     6058\n",
       "State                      52\n",
       "County                   1620\n",
       "Zip                      8583\n",
       "Lat                      8563\n",
       "Lng                      8655\n",
       "Population               5933\n",
       "Area                        3\n",
       "Timezone                   25\n",
       "Job                       639\n",
       "Children                   11\n",
       "Age                        72\n",
       "Education                  12\n",
       "Employment                  5\n",
       "Income                   7506\n",
       "Marital                     5\n",
       "Gender                      3\n",
       "Churn                       2\n",
       "Outage_sec_perweek       1929\n",
       "Email                      23\n",
       "Contacts                    8\n",
       "Yearly_equip_failure        6\n",
       "Techie                      2\n",
       "Contract                    3\n",
       "Port_modem                  2\n",
       "Tablet                      2\n",
       "InternetService             3\n",
       "Phone                       2\n",
       "Multiple                    2\n",
       "OnlineSecurity              2\n",
       "OnlineBackup                2\n",
       "DeviceProtection            2\n",
       "TechSupport                 2\n",
       "StreamingTV                 2\n",
       "StreamingMovies             2\n",
       "PaperlessBilling            2\n",
       "PaymentMethod               4\n",
       "Tenure                   4098\n",
       "MonthlyCharge            7050\n",
       "Bandwidth_GB_Year        8901\n",
       "item1                       7\n",
       "item2                       7\n",
       "item3                       8\n",
       "item4                       7\n",
       "item5                       7\n",
       "item6                       8\n",
       "item7                       7\n",
       "item8                       8\n",
       "dtype: int64"
      ]
     },
     "execution_count": 8,
     "metadata": {},
     "output_type": "execute_result"
    }
   ],
   "source": [
    "\n",
    "#number of unique rows in each column\n",
    "new_df[new_df.columns].nunique()\n",
    "\n",
    "\n",
    "#this verifys all unique identifiers are unique\n"
   ]
  },
  {
   "cell_type": "code",
   "execution_count": 9,
   "id": "57e98218",
   "metadata": {},
   "outputs": [],
   "source": [
    "#make sure the states are consistently length as initals\n",
    "\n",
    "state_length = new_df['State'].str.len()\n",
    "assert state_length.mean() == 2\n",
    "assert state_length.min() == 2"
   ]
  },
  {
   "cell_type": "code",
   "execution_count": 10,
   "id": "d2648407",
   "metadata": {},
   "outputs": [],
   "source": [
    "#strips leading and trailing spaces\n",
    "string_list = list(new_df.select_dtypes(include = {'object'}))\n",
    "for i in string_list:\n",
    "    new_df[i] = new_df[i].str.strip()"
   ]
  },
  {
   "cell_type": "code",
   "execution_count": 11,
   "id": "eac1a7a0",
   "metadata": {},
   "outputs": [
    {
     "data": {
      "text/html": [
       "<div>\n",
       "<style scoped>\n",
       "    .dataframe tbody tr th:only-of-type {\n",
       "        vertical-align: middle;\n",
       "    }\n",
       "\n",
       "    .dataframe tbody tr th {\n",
       "        vertical-align: top;\n",
       "    }\n",
       "\n",
       "    .dataframe thead th {\n",
       "        text-align: right;\n",
       "    }\n",
       "</style>\n",
       "<table border=\"1\" class=\"dataframe\">\n",
       "  <thead>\n",
       "    <tr style=\"text-align: right;\">\n",
       "      <th></th>\n",
       "      <th>CaseOrder</th>\n",
       "      <th>Customer_id</th>\n",
       "      <th>Interaction</th>\n",
       "      <th>City</th>\n",
       "      <th>State</th>\n",
       "      <th>County</th>\n",
       "      <th>Zip</th>\n",
       "      <th>Lat</th>\n",
       "      <th>Lng</th>\n",
       "      <th>Population</th>\n",
       "      <th>...</th>\n",
       "      <th>MonthlyCharge</th>\n",
       "      <th>Bandwidth_GB_Year</th>\n",
       "      <th>item1</th>\n",
       "      <th>item2</th>\n",
       "      <th>item3</th>\n",
       "      <th>item4</th>\n",
       "      <th>item5</th>\n",
       "      <th>item6</th>\n",
       "      <th>item7</th>\n",
       "      <th>item8</th>\n",
       "    </tr>\n",
       "  </thead>\n",
       "  <tbody>\n",
       "  </tbody>\n",
       "</table>\n",
       "<p>0 rows × 51 columns</p>\n",
       "</div>"
      ],
      "text/plain": [
       "Empty DataFrame\n",
       "Columns: [CaseOrder, Customer_id, Interaction, City, State, County, Zip, Lat, Lng, Population, Area, Timezone, Job, Children, Age, Education, Employment, Income, Marital, Gender, Churn, Outage_sec_perweek, Email, Contacts, Yearly_equip_failure, Techie, Contract, Port_modem, Tablet, InternetService, Phone, Multiple, OnlineSecurity, OnlineBackup, DeviceProtection, TechSupport, StreamingTV, StreamingMovies, PaperlessBilling, PaymentMethod, Tenure, MonthlyCharge, Bandwidth_GB_Year, item1, item2, item3, item4, item5, item6, item7, item8]\n",
       "Index: []\n",
       "\n",
       "[0 rows x 51 columns]"
      ]
     },
     "execution_count": 11,
     "metadata": {},
     "output_type": "execute_result"
    }
   ],
   "source": [
    "#make sure there are no duplicte rows when the unique identifiers are left out.\n",
    "\n",
    "duplicates = new_df.duplicated(subset = ['City', 'State', 'County',\n",
    "       'Zip', 'Lat', 'Lng', 'Population', 'Area', 'Timezone', 'Job',\n",
    "       'Children', 'Age', 'Education', 'Employment', 'Income', 'Marital',\n",
    "       'Gender', 'Churn', 'Outage_sec_perweek', 'Email', 'Contacts',\n",
    "       'Yearly_equip_failure', 'Techie', 'Contract', 'Port_modem', 'Tablet',\n",
    "       'InternetService', 'Phone', 'Multiple', 'OnlineSecurity',\n",
    "       'OnlineBackup', 'DeviceProtection', 'TechSupport', 'StreamingTV',\n",
    "       'StreamingMovies', 'PaperlessBilling', 'PaymentMethod', 'Tenure',\n",
    "       'MonthlyCharge', 'Bandwidth_GB_Year', 'item1', 'item2', 'item3',\n",
    "       'item4', 'item5', 'item6', 'item7', 'item8'], keep = False)\n",
    "\n",
    "new_df[duplicates]\n"
   ]
  },
  {
   "cell_type": "code",
   "execution_count": 12,
   "id": "a8b3b6c7",
   "metadata": {},
   "outputs": [],
   "source": [
    "#impute the Techie,TechSupport,Phone columns with the mode of No as they are categorical assuming if it's blank than it is a no\n",
    "str_mode = max(list(new_df['Techie']),key=list(new_df['Techie']).count)\n",
    "new_df['Techie'].fillna(str_mode, inplace = True)\n",
    "\n",
    "str_mode = max(list(new_df['TechSupport']),key=list(new_df['TechSupport']).count)\n",
    "new_df['TechSupport'].fillna(str_mode, inplace = True)\n",
    "\n",
    "# impute phone with No\n",
    "new_df['Phone'].fillna('No',inplace = True)\n"
   ]
  },
  {
   "cell_type": "code",
   "execution_count": 13,
   "id": "4ade1225",
   "metadata": {},
   "outputs": [],
   "source": [
    "# impute age,income, tenure and Bandwidth_GB_Year with the average\n",
    "new_df['Age'].fillna(new_df['Age'].mean(), inplace = True)\n",
    "new_df['Income'].fillna(new_df['Income'].mean(), inplace = True)\n",
    "new_df['Tenure'].fillna(new_df['Tenure'].mean(), inplace = True)\n",
    "new_df['Bandwidth_GB_Year'].fillna(new_df['Bandwidth_GB_Year'].mean(), inplace = True)"
   ]
  },
  {
   "cell_type": "code",
   "execution_count": 14,
   "id": "344e2a2d",
   "metadata": {},
   "outputs": [
    {
     "data": {
      "text/plain": [
       "CaseOrder               0\n",
       "Customer_id             0\n",
       "Interaction             0\n",
       "City                    0\n",
       "State                   0\n",
       "County                  0\n",
       "Zip                     0\n",
       "Lat                     0\n",
       "Lng                     0\n",
       "Population              0\n",
       "Area                    0\n",
       "Timezone                0\n",
       "Job                     0\n",
       "Children                0\n",
       "Age                     0\n",
       "Education               0\n",
       "Employment              0\n",
       "Income                  0\n",
       "Marital                 0\n",
       "Gender                  0\n",
       "Churn                   0\n",
       "Outage_sec_perweek      0\n",
       "Email                   0\n",
       "Contacts                0\n",
       "Yearly_equip_failure    0\n",
       "Techie                  0\n",
       "Contract                0\n",
       "Port_modem              0\n",
       "Tablet                  0\n",
       "InternetService         0\n",
       "Phone                   0\n",
       "Multiple                0\n",
       "OnlineSecurity          0\n",
       "OnlineBackup            0\n",
       "DeviceProtection        0\n",
       "TechSupport             0\n",
       "StreamingTV             0\n",
       "StreamingMovies         0\n",
       "PaperlessBilling        0\n",
       "PaymentMethod           0\n",
       "Tenure                  0\n",
       "MonthlyCharge           0\n",
       "Bandwidth_GB_Year       0\n",
       "item1                   0\n",
       "item2                   0\n",
       "item3                   0\n",
       "item4                   0\n",
       "item5                   0\n",
       "item6                   0\n",
       "item7                   0\n",
       "item8                   0\n",
       "dtype: int64"
      ]
     },
     "execution_count": 14,
     "metadata": {},
     "output_type": "execute_result"
    }
   ],
   "source": [
    "#impute number of Children with 0\n",
    "new_df['Children'].fillna(0,inplace = True)\n",
    "\n",
    "\n",
    "\n",
    "new_df.isna().sum()\n",
    "#now we have no more missing values"
   ]
  },
  {
   "cell_type": "code",
   "execution_count": 15,
   "id": "c7c551f7",
   "metadata": {},
   "outputs": [
    {
     "name": "stdout",
     "output_type": "stream",
     "text": [
      "Phone : ['Yes' 'No'] \n",
      "\n",
      "Multiple : ['No' 'Yes'] \n",
      "\n",
      "OnlineSecurity : ['Yes' 'No'] \n",
      "\n",
      "OnlineBackup : ['Yes' 'No'] \n",
      "\n",
      "DeviceProtection : ['No' 'Yes'] \n",
      "\n",
      "TechSupport : ['No' 'Yes'] \n",
      "\n",
      "StreamingTV : ['No' 'Yes'] \n",
      "\n",
      "StreamingMovies : ['Yes' 'No'] \n",
      "\n",
      "PaperlessBilling : ['Yes' 'No'] \n",
      "\n"
     ]
    }
   ],
   "source": [
    "# making sure the categories with yes/no values are consistent\n",
    "category_column_name = ['Phone','Multiple','OnlineSecurity','OnlineBackup','DeviceProtection','TechSupport','StreamingTV','StreamingMovies','PaperlessBilling']\n",
    "\n",
    "\n",
    "for i in category_column_name:\n",
    "    print(i,':',new_df[i].unique(),'\\n')"
   ]
  },
  {
   "cell_type": "code",
   "execution_count": 16,
   "id": "f17d436a",
   "metadata": {},
   "outputs": [
    {
     "name": "stdout",
     "output_type": "stream",
     "text": [
      "<class 'pandas.core.frame.DataFrame'>\n",
      "RangeIndex: 10000 entries, 0 to 9999\n",
      "Data columns (total 51 columns):\n",
      " #   Column                Non-Null Count  Dtype  \n",
      "---  ------                --------------  -----  \n",
      " 0   CaseOrder             10000 non-null  int64  \n",
      " 1   Customer_id           10000 non-null  object \n",
      " 2   Interaction           10000 non-null  object \n",
      " 3   City                  10000 non-null  object \n",
      " 4   State                 10000 non-null  object \n",
      " 5   County                10000 non-null  object \n",
      " 6   Zip                   10000 non-null  int64  \n",
      " 7   Lat                   10000 non-null  float64\n",
      " 8   Lng                   10000 non-null  float64\n",
      " 9   Population            10000 non-null  int64  \n",
      " 10  Area                  10000 non-null  object \n",
      " 11  Timezone              10000 non-null  object \n",
      " 12  Job                   10000 non-null  object \n",
      " 13  Children              10000 non-null  float64\n",
      " 14  Age                   10000 non-null  float64\n",
      " 15  Education             10000 non-null  object \n",
      " 16  Employment            10000 non-null  object \n",
      " 17  Income                10000 non-null  float64\n",
      " 18  Marital               10000 non-null  object \n",
      " 19  Gender                10000 non-null  object \n",
      " 20  Churn                 10000 non-null  object \n",
      " 21  Outage_sec_perweek    10000 non-null  float64\n",
      " 22  Email                 10000 non-null  int64  \n",
      " 23  Contacts              10000 non-null  int64  \n",
      " 24  Yearly_equip_failure  10000 non-null  int64  \n",
      " 25  Techie                10000 non-null  object \n",
      " 26  Contract              10000 non-null  object \n",
      " 27  Port_modem            10000 non-null  object \n",
      " 28  Tablet                10000 non-null  object \n",
      " 29  InternetService       10000 non-null  object \n",
      " 30  Phone                 10000 non-null  object \n",
      " 31  Multiple              10000 non-null  object \n",
      " 32  OnlineSecurity        10000 non-null  object \n",
      " 33  OnlineBackup          10000 non-null  object \n",
      " 34  DeviceProtection      10000 non-null  object \n",
      " 35  TechSupport           10000 non-null  object \n",
      " 36  StreamingTV           10000 non-null  object \n",
      " 37  StreamingMovies       10000 non-null  object \n",
      " 38  PaperlessBilling      10000 non-null  object \n",
      " 39  PaymentMethod         10000 non-null  object \n",
      " 40  Tenure                10000 non-null  float64\n",
      " 41  MonthlyCharge         10000 non-null  float64\n",
      " 42  Bandwidth_GB_Year     10000 non-null  float64\n",
      " 43  item1                 10000 non-null  int64  \n",
      " 44  item2                 10000 non-null  int64  \n",
      " 45  item3                 10000 non-null  int64  \n",
      " 46  item4                 10000 non-null  int64  \n",
      " 47  item5                 10000 non-null  int64  \n",
      " 48  item6                 10000 non-null  int64  \n",
      " 49  item7                 10000 non-null  int64  \n",
      " 50  item8                 10000 non-null  int64  \n",
      "dtypes: float64(9), int64(14), object(28)\n",
      "memory usage: 3.9+ MB\n"
     ]
    }
   ],
   "source": [
    "# detecting outliers\n",
    "import matplotlib.pyplot as plt\n",
    "new_df.info()\n"
   ]
  },
  {
   "cell_type": "code",
   "execution_count": 17,
   "id": "f33d8cd3",
   "metadata": {},
   "outputs": [
    {
     "name": "stdout",
     "output_type": "stream",
     "text": [
      "Lng min is  -171.68815 max is  -65.66785 \n",
      "\n",
      "Lat min is  17.96612 max is  70.64066 \n",
      "\n",
      "Population min is  0 max is  111850 \n",
      "\n",
      "Children min is  0.0 max is  10.0 \n",
      "\n",
      "Age min is  18.0 max is  89.0 \n",
      "\n",
      "Income min is  740.66 max is  258900.7 \n",
      "\n",
      "Outage_sec_perweek min is  -1.35 max is  47.05 \n",
      "\n",
      "Email min is  1 max is  23 \n",
      "\n",
      "Contacts min is  0 max is  7 \n",
      "\n",
      "Yearly_equip_failure min is  0 max is  6 \n",
      "\n",
      "Tenure min is  1.0 max is  72.0 \n",
      "\n",
      "MonthlyCharge min is  77.51 max is  315.88 \n",
      "\n",
      "Bandwidth_GB_Year min is  155.51 max is  7158.98 \n",
      "\n"
     ]
    }
   ],
   "source": [
    "#Population,Children,Age,Income,Outage_sec_perweek,Email,Contacts,Yearly_equip_failure,Tenure,MonthlyCharge,Bandwidth_GB_Year\n",
    "\n",
    "col_num_names = ['Lng','Lat','Population','Children','Age','Income','Outage_sec_perweek','Email','Contacts','Yearly_equip_failure','Tenure','MonthlyCharge','Bandwidth_GB_Year']\n",
    "\n",
    "\n",
    "\n",
    "for i in col_num_names:\n",
    "    print(new_df[i].name,\"min is \", new_df[i].min(),\"max is \",new_df[i].max(),\"\\n\")"
   ]
  },
  {
   "cell_type": "code",
   "execution_count": 18,
   "id": "c4292ec5",
   "metadata": {},
   "outputs": [
    {
     "name": "stdout",
     "output_type": "stream",
     "text": [
      "0.97\n"
     ]
    }
   ],
   "source": [
    "#first off we can see that a population cannot have 0\n",
    "\n",
    "\n",
    "\n",
    "\n",
    "# we can see from this that Population,Children,Income,Outage_sec_perweek,email, and Bandwidth_GB_Year may have outliers\n",
    "\n",
    "\n",
    "\n",
    "\n",
    "\n",
    "\n",
    "count = (new_df['Population']==0).sum()\n",
    "perc = (count/len(new_df['Population']))*100\n",
    "print(perc)"
   ]
  },
  {
   "cell_type": "code",
   "execution_count": 19,
   "id": "a7e7a33b",
   "metadata": {},
   "outputs": [],
   "source": [
    "#less than 1 percent of the data so we can remove the zeros from population\n",
    "new_df.drop(new_df[new_df['Population'] == 0].index, inplace = True)"
   ]
  },
  {
   "cell_type": "code",
   "execution_count": 20,
   "id": "bd0fc4c9",
   "metadata": {},
   "outputs": [
    {
     "data": {
      "text/plain": [
       "Text(0.5, 1.0, 'Population histogram')"
      ]
     },
     "execution_count": 20,
     "metadata": {},
     "output_type": "execute_result"
    },
    {
     "data": {
      "image/png": "[encoded data removed]",
      "text/plain": [
       "<Figure size 640x480 with 1 Axes>"
      ]
     },
     "metadata": {},
     "output_type": "display_data"
    }
   ],
   "source": [
    "plt.hist(new_df['Population'])\n",
    "plt.title('Population histogram')"
   ]
  },
  {
   "cell_type": "code",
   "execution_count": 21,
   "id": "839249da",
   "metadata": {},
   "outputs": [
    {
     "data": {
      "text/plain": [
       "Text(0.5, 1.0, 'Population boxplot')"
      ]
     },
     "execution_count": 21,
     "metadata": {},
     "output_type": "execute_result"
    },
    {
     "data": {
      "image/png": "[encoded data removed]",
      "text/plain": [
       "<Figure size 640x480 with 1 Axes>"
      ]
     },
     "metadata": {},
     "output_type": "display_data"
    }
   ],
   "source": [
    "plt.boxplot(new_df['Population'])\n",
    "plt.title('Population boxplot')"
   ]
  },
  {
   "cell_type": "code",
   "execution_count": 22,
   "id": "984de268",
   "metadata": {},
   "outputs": [
    {
     "data": {
      "text/plain": [
       "Text(0.5, 1.0, 'lat histogram')"
      ]
     },
     "execution_count": 22,
     "metadata": {},
     "output_type": "execute_result"
    },
    {
     "data": {
      "image/png": "[encoded data removed]",
      "text/plain": [
       "<Figure size 640x480 with 1 Axes>"
      ]
     },
     "metadata": {},
     "output_type": "display_data"
    }
   ],
   "source": [
    "plt.hist(new_df['Lat'])\n",
    "plt.title('lat histogram')"
   ]
  },
  {
   "cell_type": "code",
   "execution_count": 23,
   "id": "41cde7db",
   "metadata": {},
   "outputs": [
    {
     "data": {
      "text/plain": [
       "Text(0.5, 1.0, 'lng histogram')"
      ]
     },
     "execution_count": 23,
     "metadata": {},
     "output_type": "execute_result"
    },
    {
     "data": {
      "image/png": "[encoded data removed]",
      "text/plain": [
       "<Figure size 640x480 with 1 Axes>"
      ]
     },
     "metadata": {},
     "output_type": "display_data"
    }
   ],
   "source": [
    "plt.hist(new_df['Lng'])\n",
    "plt.title('lng histogram')"
   ]
  },
  {
   "cell_type": "code",
   "execution_count": 24,
   "id": "94d8ebb1",
   "metadata": {},
   "outputs": [
    {
     "data": {
      "text/plain": [
       "Text(0.5, 1.0, 'Children boxplot')"
      ]
     },
     "execution_count": 24,
     "metadata": {},
     "output_type": "execute_result"
    },
    {
     "data": {
      "image/png": "[encoded data removed]",
      "text/plain": [
       "<Figure size 640x480 with 1 Axes>"
      ]
     },
     "metadata": {},
     "output_type": "display_data"
    }
   ],
   "source": [
    "\n",
    "plt.boxplot(new_df['Children'])\n",
    "plt.title('Children boxplot')"
   ]
  },
  {
   "cell_type": "code",
   "execution_count": 25,
   "id": "a1e105f8",
   "metadata": {},
   "outputs": [
    {
     "data": {
      "text/plain": [
       "Text(0.5, 1.0, 'Age Histogram')"
      ]
     },
     "execution_count": 25,
     "metadata": {},
     "output_type": "execute_result"
    },
    {
     "data": {
      "image/png": "[encoded data removed]",
      "text/plain": [
       "<Figure size 640x480 with 1 Axes>"
      ]
     },
     "metadata": {},
     "output_type": "display_data"
    }
   ],
   "source": [
    "#above 8 are outliers but leave them in\n",
    "\n",
    "plt.hist(new_df['Age'])\n",
    "plt.title('Age Histogram')\n"
   ]
  },
  {
   "cell_type": "code",
   "execution_count": 26,
   "id": "99e0c73f",
   "metadata": {},
   "outputs": [
    {
     "data": {
      "text/plain": [
       "Text(0.5, 1.0, 'Age boxplot')"
      ]
     },
     "execution_count": 26,
     "metadata": {},
     "output_type": "execute_result"
    },
    {
     "data": {
      "image/png": "[encoded data removed]",
      "text/plain": [
       "<Figure size 640x480 with 1 Axes>"
      ]
     },
     "metadata": {},
     "output_type": "display_data"
    }
   ],
   "source": [
    "\n",
    "plt.boxplot(new_df['Age'])\n",
    "plt.title('Age boxplot')\n",
    "#no outliers in age"
   ]
  },
  {
   "cell_type": "code",
   "execution_count": 27,
   "id": "d146714f",
   "metadata": {},
   "outputs": [
    {
     "data": {
      "text/plain": [
       "Text(0.5, 1.0, 'Income boxplot')"
      ]
     },
     "execution_count": 27,
     "metadata": {},
     "output_type": "execute_result"
    },
    {
     "data": {
      "image/png": "[encoded data removed]",
      "text/plain": [
       "<Figure size 640x480 with 1 Axes>"
      ]
     },
     "metadata": {},
     "output_type": "display_data"
    }
   ],
   "source": [
    "plt.boxplot(new_df['Income'])\n",
    "plt.title('Income boxplot')"
   ]
  },
  {
   "cell_type": "code",
   "execution_count": 28,
   "id": "950de216",
   "metadata": {},
   "outputs": [
    {
     "data": {
      "text/plain": [
       "Text(0.5, 1.0, 'Income histogram')"
      ]
     },
     "execution_count": 28,
     "metadata": {},
     "output_type": "execute_result"
    },
    {
     "data": {
      "image/png": "[encoded data removed]",
      "text/plain": [
       "<Figure size 640x480 with 1 Axes>"
      ]
     },
     "metadata": {},
     "output_type": "display_data"
    }
   ],
   "source": [
    "plt.hist(new_df['Income'])\n",
    "plt.title('Income histogram')"
   ]
  },
  {
   "cell_type": "code",
   "execution_count": 29,
   "id": "91bfcd13",
   "metadata": {},
   "outputs": [
    {
     "data": {
      "text/plain": [
       "Text(0.5, 1.0, 'Outage_sec_perweek Histogram')"
      ]
     },
     "execution_count": 29,
     "metadata": {},
     "output_type": "execute_result"
    },
    {
     "data": {
      "image/png": "[encoded data removed]",
      "text/plain": [
       "<Figure size 640x480 with 1 Axes>"
      ]
     },
     "metadata": {},
     "output_type": "display_data"
    }
   ],
   "source": [
    "#income above 175,000 are outliers\n",
    "\n",
    "plt.hist(new_df['Outage_sec_perweek'])\n",
    "plt.title('Outage_sec_perweek Histogram')"
   ]
  },
  {
   "cell_type": "code",
   "execution_count": 30,
   "id": "ce697c4d",
   "metadata": {},
   "outputs": [],
   "source": [
    "# from the min max we can see that an Outage_sec_perweek cannot be negative and from the histogram above\n",
    "# it is clear there is an outlier cluster that could be investigated as to why it is so high compared to the others\n",
    "# from 33 to around 44/45\n",
    "new_df['Outage_sec_perweek']=np.absolute(new_df['Outage_sec_perweek'])"
   ]
  },
  {
   "cell_type": "code",
   "execution_count": 31,
   "id": "7c601844",
   "metadata": {},
   "outputs": [
    {
     "name": "stdout",
     "output_type": "stream",
     "text": [
      "Population min is  2\n",
      "Outage_sec_perweek min is  0.11\n"
     ]
    }
   ],
   "source": [
    "print (new_df['Population'].name,\"min is \", new_df['Population'].min())\n",
    "print (new_df['Outage_sec_perweek'].name,\"min is \", new_df['Outage_sec_perweek'].min())"
   ]
  },
  {
   "cell_type": "code",
   "execution_count": 32,
   "id": "bcc663ac",
   "metadata": {},
   "outputs": [
    {
     "data": {
      "text/plain": [
       "Text(0.5, 1.0, 'Email_boxplot')"
      ]
     },
     "execution_count": 32,
     "metadata": {},
     "output_type": "execute_result"
    },
    {
     "data": {
      "image/png": "[encoded data removed]",
      "text/plain": [
       "<Figure size 640x480 with 1 Axes>"
      ]
     },
     "metadata": {},
     "output_type": "display_data"
    }
   ],
   "source": [
    " \n",
    "\n",
    "plt.boxplot(new_df['Email'])\n",
    "plt.title('Email_boxplot')"
   ]
  },
  {
   "cell_type": "code",
   "execution_count": 33,
   "id": "9d6579d6",
   "metadata": {},
   "outputs": [
    {
     "data": {
      "text/plain": [
       "Text(0.5, 1.0, 'Contacts_boxplot')"
      ]
     },
     "execution_count": 33,
     "metadata": {},
     "output_type": "execute_result"
    },
    {
     "data": {
      "image/png": "[encoded data removed]",
      "text/plain": [
       "<Figure size 640x480 with 1 Axes>"
      ]
     },
     "metadata": {},
     "output_type": "display_data"
    }
   ],
   "source": [
    "# the number of emails above 20 and below 4 ccould be consideered outliers\n",
    "\n",
    "plt.boxplot(new_df['Contacts'])\n",
    "plt.title('Contacts_boxplot')"
   ]
  },
  {
   "cell_type": "code",
   "execution_count": 34,
   "id": "d4642553",
   "metadata": {},
   "outputs": [
    {
     "data": {
      "text/plain": [
       "Text(0.5, 1.0, 'Yearly_equip_failure_boxplot')"
      ]
     },
     "execution_count": 34,
     "metadata": {},
     "output_type": "execute_result"
    },
    {
     "data": {
      "image/png": "[encoded data removed]",
      "text/plain": [
       "<Figure size 640x480 with 1 Axes>"
      ]
     },
     "metadata": {},
     "output_type": "display_data"
    }
   ],
   "source": [
    "#contact 6,7 are outliers\n",
    "\n",
    "plt.boxplot(new_df['Yearly_equip_failure'])\n",
    "plt.title('Yearly_equip_failure_boxplot')"
   ]
  },
  {
   "cell_type": "code",
   "execution_count": 35,
   "id": "3e84e5e4",
   "metadata": {},
   "outputs": [
    {
     "data": {
      "text/plain": [
       "Text(0.5, 1.0, 'Yearly_equip_failure_histogram')"
      ]
     },
     "execution_count": 35,
     "metadata": {},
     "output_type": "execute_result"
    },
    {
     "data": {
      "image/png": "[encoded data removed]",
      "text/plain": [
       "<Figure size 640x480 with 1 Axes>"
      ]
     },
     "metadata": {},
     "output_type": "display_data"
    }
   ],
   "source": [
    "#above 3 are outliers\n",
    "plt.hist(new_df['Yearly_equip_failure'])\n",
    "plt.title('Yearly_equip_failure_histogram')\n"
   ]
  },
  {
   "cell_type": "code",
   "execution_count": 36,
   "id": "5826ffa4",
   "metadata": {},
   "outputs": [
    {
     "data": {
      "text/plain": [
       "Text(0.5, 1.0, 'Tenure')"
      ]
     },
     "execution_count": 36,
     "metadata": {},
     "output_type": "execute_result"
    },
    {
     "data": {
      "image/png": "[encoded data removed]",
      "text/plain": [
       "<Figure size 640x480 with 1 Axes>"
      ]
     },
     "metadata": {},
     "output_type": "display_data"
    }
   ],
   "source": [
    "plt.hist(new_df['Tenure'])\n",
    "plt.title('Tenure')"
   ]
  },
  {
   "cell_type": "code",
   "execution_count": 37,
   "id": "853b23cd",
   "metadata": {},
   "outputs": [
    {
     "data": {
      "text/plain": [
       "Text(0.5, 1.0, 'Tenure')"
      ]
     },
     "execution_count": 37,
     "metadata": {},
     "output_type": "execute_result"
    },
    {
     "data": {
      "image/png": "[encoded data removed]",
      "text/plain": [
       "<Figure size 640x480 with 1 Axes>"
      ]
     },
     "metadata": {},
     "output_type": "display_data"
    }
   ],
   "source": [
    "plt.boxplot(new_df['Tenure'])\n",
    "plt.title('Tenure')\n",
    "#no outliers for tenure"
   ]
  },
  {
   "cell_type": "code",
   "execution_count": 38,
   "id": "ad7f298a",
   "metadata": {},
   "outputs": [
    {
     "data": {
      "text/plain": [
       "Text(0.5, 1.0, 'Bandwidth_GB_Year')"
      ]
     },
     "execution_count": 38,
     "metadata": {},
     "output_type": "execute_result"
    },
    {
     "data": {
      "image/png": "[encoded data removed]",
      "text/plain": [
       "<Figure size 640x480 with 1 Axes>"
      ]
     },
     "metadata": {},
     "output_type": "display_data"
    }
   ],
   "source": [
    "plt.hist(new_df['Bandwidth_GB_Year'])\n",
    "plt.title('Bandwidth_GB_Year')"
   ]
  },
  {
   "cell_type": "code",
   "execution_count": 39,
   "id": "9488d4de",
   "metadata": {},
   "outputs": [
    {
     "data": {
      "text/plain": [
       "Text(0.5, 1.0, 'Bandwidth_GB_Year')"
      ]
     },
     "execution_count": 39,
     "metadata": {},
     "output_type": "execute_result"
    },
    {
     "data": {
      "image/png": "[encoded data removed]",
      "text/plain": [
       "<Figure size 640x480 with 1 Axes>"
      ]
     },
     "metadata": {},
     "output_type": "display_data"
    }
   ],
   "source": [
    "plt.boxplot(new_df['Bandwidth_GB_Year'])\n",
    "plt.title('Bandwidth_GB_Year')"
   ]
  },
  {
   "cell_type": "code",
   "execution_count": 40,
   "id": "eb14370e",
   "metadata": {},
   "outputs": [
    {
     "data": {
      "text/plain": [
       "Text(0.5, 1.0, 'MonthlyCharge')"
      ]
     },
     "execution_count": 40,
     "metadata": {},
     "output_type": "execute_result"
    },
    {
     "data": {
      "image/png": "[encoded data removed]",
      "text/plain": [
       "<Figure size 640x480 with 1 Axes>"
      ]
     },
     "metadata": {},
     "output_type": "display_data"
    }
   ],
   "source": [
    "plt.hist(new_df['MonthlyCharge'])\n",
    "plt.title('MonthlyCharge')"
   ]
  },
  {
   "cell_type": "code",
   "execution_count": 41,
   "id": "d0705d9f",
   "metadata": {},
   "outputs": [
    {
     "data": {
      "text/plain": [
       "Text(0.5, 1.0, 'MonthlyCharge')"
      ]
     },
     "execution_count": 41,
     "metadata": {},
     "output_type": "execute_result"
    },
    {
     "data": {
      "image/png": "[encoded data removed]",
      "text/plain": [
       "<Figure size 640x480 with 1 Axes>"
      ]
     },
     "metadata": {},
     "output_type": "display_data"
    }
   ],
   "source": [
    "plt.boxplot(new_df['MonthlyCharge'])\n",
    "plt.title('MonthlyCharge')"
   ]
  },
  {
   "cell_type": "code",
   "execution_count": 42,
   "id": "6d1dd828",
   "metadata": {},
   "outputs": [
    {
     "data": {
      "text/plain": [
       "Text(0.5, 1.0, 'item1')"
      ]
     },
     "execution_count": 42,
     "metadata": {},
     "output_type": "execute_result"
    },
    {
     "data": {
      "image/png": "[encoded data removed]",
      "text/plain": [
       "<Figure size 640x480 with 1 Axes>"
      ]
     },
     "metadata": {},
     "output_type": "display_data"
    }
   ],
   "source": [
    "#above 300 are outlliers for monthly charge\n",
    "plt.boxplot(new_df['item1'])\n",
    "plt.title('item1')"
   ]
  },
  {
   "cell_type": "code",
   "execution_count": 43,
   "id": "1e7cd5b5",
   "metadata": {},
   "outputs": [
    {
     "data": {
      "text/plain": [
       "Text(0.5, 1.0, 'item2')"
      ]
     },
     "execution_count": 43,
     "metadata": {},
     "output_type": "execute_result"
    },
    {
     "data": {
      "image/png": "[encoded data removed]",
      "text/plain": [
       "<Figure size 640x480 with 1 Axes>"
      ]
     },
     "metadata": {},
     "output_type": "display_data"
    }
   ],
   "source": [
    "plt.boxplot(new_df['item2'])\n",
    "plt.title('item2')"
   ]
  },
  {
   "cell_type": "code",
   "execution_count": 44,
   "id": "a602f1e1",
   "metadata": {},
   "outputs": [
    {
     "data": {
      "text/plain": [
       "Text(0.5, 1.0, 'item3')"
      ]
     },
     "execution_count": 44,
     "metadata": {},
     "output_type": "execute_result"
    },
    {
     "data": {
      "image/png": "[encoded data removed]",
      "text/plain": [
       "<Figure size 640x480 with 1 Axes>"
      ]
     },
     "metadata": {},
     "output_type": "display_data"
    }
   ],
   "source": [
    "plt.boxplot(new_df['item3'])\n",
    "plt.title('item3')"
   ]
  },
  {
   "cell_type": "code",
   "execution_count": 45,
   "id": "647d9962",
   "metadata": {},
   "outputs": [
    {
     "data": {
      "text/plain": [
       "Text(0.5, 1.0, 'item4')"
      ]
     },
     "execution_count": 45,
     "metadata": {},
     "output_type": "execute_result"
    },
    {
     "data": {
      "image/png": "[encoded data removed]",
      "text/plain": [
       "<Figure size 640x480 with 1 Axes>"
      ]
     },
     "metadata": {},
     "output_type": "display_data"
    }
   ],
   "source": [
    "plt.boxplot(new_df['item4'])\n",
    "plt.title('item4')"
   ]
  },
  {
   "cell_type": "code",
   "execution_count": 46,
   "id": "91104be9",
   "metadata": {},
   "outputs": [
    {
     "data": {
      "text/plain": [
       "Text(0.5, 1.0, 'item5')"
      ]
     },
     "execution_count": 46,
     "metadata": {},
     "output_type": "execute_result"
    },
    {
     "data": {
      "image/png": "[encoded data removed]",
      "text/plain": [
       "<Figure size 640x480 with 1 Axes>"
      ]
     },
     "metadata": {},
     "output_type": "display_data"
    }
   ],
   "source": [
    "plt.boxplot(new_df['item5'])\n",
    "plt.title('item5')"
   ]
  },
  {
   "cell_type": "code",
   "execution_count": 47,
   "id": "0b8c331a",
   "metadata": {},
   "outputs": [
    {
     "data": {
      "text/plain": [
       "Text(0.5, 1.0, 'item6')"
      ]
     },
     "execution_count": 47,
     "metadata": {},
     "output_type": "execute_result"
    },
    {
     "data": {
      "image/png": "[encoded data removed]",
      "text/plain": [
       "<Figure size 640x480 with 1 Axes>"
      ]
     },
     "metadata": {},
     "output_type": "display_data"
    }
   ],
   "source": [
    "plt.boxplot(new_df['item6'])\n",
    "plt.title('item6')"
   ]
  },
  {
   "cell_type": "code",
   "execution_count": 48,
   "id": "770ac8db",
   "metadata": {},
   "outputs": [
    {
     "data": {
      "text/plain": [
       "Text(0.5, 1.0, 'item7')"
      ]
     },
     "execution_count": 48,
     "metadata": {},
     "output_type": "execute_result"
    },
    {
     "data": {
      "image/png": "[encoded data removed]",
      "text/plain": [
       "<Figure size 640x480 with 1 Axes>"
      ]
     },
     "metadata": {},
     "output_type": "display_data"
    }
   ],
   "source": [
    "plt.boxplot(new_df['item7'])\n",
    "plt.title('item7')"
   ]
  },
  {
   "cell_type": "code",
   "execution_count": 49,
   "id": "4ce36911",
   "metadata": {},
   "outputs": [
    {
     "data": {
      "text/plain": [
       "Text(0.5, 1.0, 'item8')"
      ]
     },
     "execution_count": 49,
     "metadata": {},
     "output_type": "execute_result"
    },
    {
     "data": {
      "image/png": "[encoded data removed]",
      "text/plain": [
       "<Figure size 640x480 with 1 Axes>"
      ]
     },
     "metadata": {},
     "output_type": "display_data"
    }
   ],
   "source": [
    "plt.boxplot(new_df['item8'])\n",
    "plt.title('item8')"
   ]
  },
  {
   "cell_type": "code",
   "execution_count": 50,
   "id": "da27e3ad",
   "metadata": {},
   "outputs": [
    {
     "name": "stdout",
     "output_type": "stream",
     "text": [
      "['Lat', 'Lng', 'Population', 'Children', 'Age', 'Income', 'Outage_sec_perweek', 'Email', 'Contacts', 'Yearly_equip_failure', 'Tenure', 'MonthlyCharge', 'Bandwidth_GB_Year', 'item1', 'item2', 'item3', 'item4', 'item5', 'item6', 'item7', 'item8']\n"
     ]
    }
   ],
   "source": [
    "from sklearn.decomposition import PCA\n",
    "\n",
    "\n",
    "numeric_list = list(new_df.select_dtypes(include = {'int64','float64'}))\n",
    "del numeric_list[:2]\n",
    "print(numeric_list)"
   ]
  },
  {
   "cell_type": "code",
   "execution_count": 51,
   "id": "f92d3582",
   "metadata": {},
   "outputs": [
    {
     "data": {
      "text/html": [
       "<div>\n",
       "<style scoped>\n",
       "    .dataframe tbody tr th:only-of-type {\n",
       "        vertical-align: middle;\n",
       "    }\n",
       "\n",
       "    .dataframe tbody tr th {\n",
       "        vertical-align: top;\n",
       "    }\n",
       "\n",
       "    .dataframe thead th {\n",
       "        text-align: right;\n",
       "    }\n",
       "</style>\n",
       "<table border=\"1\" class=\"dataframe\">\n",
       "  <thead>\n",
       "    <tr style=\"text-align: right;\">\n",
       "      <th></th>\n",
       "      <th>Lat</th>\n",
       "      <th>Lng</th>\n",
       "      <th>Population</th>\n",
       "      <th>Children</th>\n",
       "      <th>Age</th>\n",
       "      <th>Income</th>\n",
       "      <th>Outage_sec_perweek</th>\n",
       "      <th>Email</th>\n",
       "      <th>Contacts</th>\n",
       "      <th>Yearly_equip_failure</th>\n",
       "      <th>...</th>\n",
       "      <th>MonthlyCharge</th>\n",
       "      <th>Bandwidth_GB_Year</th>\n",
       "      <th>item1</th>\n",
       "      <th>item2</th>\n",
       "      <th>item3</th>\n",
       "      <th>item4</th>\n",
       "      <th>item5</th>\n",
       "      <th>item6</th>\n",
       "      <th>item7</th>\n",
       "      <th>item8</th>\n",
       "    </tr>\n",
       "  </thead>\n",
       "  <tbody>\n",
       "    <tr>\n",
       "      <th>0</th>\n",
       "      <td>56.25100</td>\n",
       "      <td>-133.37571</td>\n",
       "      <td>38</td>\n",
       "      <td>0.0</td>\n",
       "      <td>68.0</td>\n",
       "      <td>28561.990000</td>\n",
       "      <td>6.97</td>\n",
       "      <td>10</td>\n",
       "      <td>0</td>\n",
       "      <td>1</td>\n",
       "      <td>...</td>\n",
       "      <td>171.45</td>\n",
       "      <td>904.54</td>\n",
       "      <td>5</td>\n",
       "      <td>5</td>\n",
       "      <td>5</td>\n",
       "      <td>3</td>\n",
       "      <td>4</td>\n",
       "      <td>4</td>\n",
       "      <td>3</td>\n",
       "      <td>4</td>\n",
       "    </tr>\n",
       "    <tr>\n",
       "      <th>1</th>\n",
       "      <td>44.32893</td>\n",
       "      <td>-84.24080</td>\n",
       "      <td>10446</td>\n",
       "      <td>1.0</td>\n",
       "      <td>27.0</td>\n",
       "      <td>21704.770000</td>\n",
       "      <td>12.01</td>\n",
       "      <td>12</td>\n",
       "      <td>0</td>\n",
       "      <td>1</td>\n",
       "      <td>...</td>\n",
       "      <td>242.95</td>\n",
       "      <td>800.98</td>\n",
       "      <td>3</td>\n",
       "      <td>4</td>\n",
       "      <td>3</td>\n",
       "      <td>3</td>\n",
       "      <td>4</td>\n",
       "      <td>3</td>\n",
       "      <td>4</td>\n",
       "      <td>4</td>\n",
       "    </tr>\n",
       "    <tr>\n",
       "      <th>2</th>\n",
       "      <td>45.35589</td>\n",
       "      <td>-123.24657</td>\n",
       "      <td>3735</td>\n",
       "      <td>4.0</td>\n",
       "      <td>50.0</td>\n",
       "      <td>39936.762226</td>\n",
       "      <td>10.25</td>\n",
       "      <td>9</td>\n",
       "      <td>0</td>\n",
       "      <td>1</td>\n",
       "      <td>...</td>\n",
       "      <td>159.44</td>\n",
       "      <td>2054.71</td>\n",
       "      <td>4</td>\n",
       "      <td>4</td>\n",
       "      <td>2</td>\n",
       "      <td>4</td>\n",
       "      <td>4</td>\n",
       "      <td>3</td>\n",
       "      <td>3</td>\n",
       "      <td>3</td>\n",
       "    </tr>\n",
       "    <tr>\n",
       "      <th>3</th>\n",
       "      <td>32.96687</td>\n",
       "      <td>-117.24798</td>\n",
       "      <td>13863</td>\n",
       "      <td>1.0</td>\n",
       "      <td>48.0</td>\n",
       "      <td>18925.230000</td>\n",
       "      <td>15.21</td>\n",
       "      <td>15</td>\n",
       "      <td>2</td>\n",
       "      <td>0</td>\n",
       "      <td>...</td>\n",
       "      <td>120.25</td>\n",
       "      <td>2164.58</td>\n",
       "      <td>4</td>\n",
       "      <td>4</td>\n",
       "      <td>4</td>\n",
       "      <td>2</td>\n",
       "      <td>5</td>\n",
       "      <td>4</td>\n",
       "      <td>3</td>\n",
       "      <td>3</td>\n",
       "    </tr>\n",
       "    <tr>\n",
       "      <th>4</th>\n",
       "      <td>29.38012</td>\n",
       "      <td>-95.80673</td>\n",
       "      <td>11352</td>\n",
       "      <td>0.0</td>\n",
       "      <td>83.0</td>\n",
       "      <td>40074.190000</td>\n",
       "      <td>8.96</td>\n",
       "      <td>16</td>\n",
       "      <td>2</td>\n",
       "      <td>1</td>\n",
       "      <td>...</td>\n",
       "      <td>150.76</td>\n",
       "      <td>271.49</td>\n",
       "      <td>4</td>\n",
       "      <td>4</td>\n",
       "      <td>4</td>\n",
       "      <td>3</td>\n",
       "      <td>4</td>\n",
       "      <td>4</td>\n",
       "      <td>4</td>\n",
       "      <td>5</td>\n",
       "    </tr>\n",
       "  </tbody>\n",
       "</table>\n",
       "<p>5 rows × 21 columns</p>\n",
       "</div>"
      ],
      "text/plain": [
       "        Lat        Lng  Population  Children   Age        Income  \\\n",
       "0  56.25100 -133.37571          38       0.0  68.0  28561.990000   \n",
       "1  44.32893  -84.24080       10446       1.0  27.0  21704.770000   \n",
       "2  45.35589 -123.24657        3735       4.0  50.0  39936.762226   \n",
       "3  32.96687 -117.24798       13863       1.0  48.0  18925.230000   \n",
       "4  29.38012  -95.80673       11352       0.0  83.0  40074.190000   \n",
       "\n",
       "   Outage_sec_perweek  Email  Contacts  Yearly_equip_failure  ...  \\\n",
       "0                6.97     10         0                     1  ...   \n",
       "1               12.01     12         0                     1  ...   \n",
       "2               10.25      9         0                     1  ...   \n",
       "3               15.21     15         2                     0  ...   \n",
       "4                8.96     16         2                     1  ...   \n",
       "\n",
       "   MonthlyCharge  Bandwidth_GB_Year  item1  item2  item3  item4  item5  item6  \\\n",
       "0         171.45             904.54      5      5      5      3      4      4   \n",
       "1         242.95             800.98      3      4      3      3      4      3   \n",
       "2         159.44            2054.71      4      4      2      4      4      3   \n",
       "3         120.25            2164.58      4      4      4      2      5      4   \n",
       "4         150.76             271.49      4      4      4      3      4      4   \n",
       "\n",
       "   item7  item8  \n",
       "0      3      4  \n",
       "1      4      4  \n",
       "2      3      3  \n",
       "3      3      3  \n",
       "4      4      5  \n",
       "\n",
       "[5 rows x 21 columns]"
      ]
     },
     "execution_count": 51,
     "metadata": {},
     "output_type": "execute_result"
    }
   ],
   "source": [
    "pca_df = new_df[numeric_list]\n",
    "pca_df.head()"
   ]
  },
  {
   "cell_type": "code",
   "execution_count": 52,
   "id": "37757c2a",
   "metadata": {},
   "outputs": [],
   "source": [
    "#normalize\n",
    "pca_df_normalized = (pca_df-pca_df.mean())/pca_df.std()"
   ]
  },
  {
   "cell_type": "code",
   "execution_count": 53,
   "id": "131f7a6b",
   "metadata": {},
   "outputs": [
    {
     "data": {
      "text/plain": [
       "PCA(n_components=21)"
      ]
     },
     "execution_count": 53,
     "metadata": {},
     "output_type": "execute_result"
    }
   ],
   "source": [
    "pca = PCA(n_components = pca_df.shape[1])\n",
    "pca.fit(pca_df_normalized)"
   ]
  },
  {
   "cell_type": "code",
   "execution_count": 54,
   "id": "b155e4a7",
   "metadata": {},
   "outputs": [],
   "source": [
    "pca_df_2 = pd.DataFrame(pca.transform(pca_df_normalized),columns =['PC1','PC2','PC3','PC4',\n",
    "                                                                   'PC5','PC6','PC7','PC8',\n",
    "                                                                   'PC9','PC10','PC11','PC12',\n",
    "                                                                   'PC13','PC14','PC15','PC16',\n",
    "                                                                   'PC17','PC18','PC19','PC20',\n",
    "                                                                   'PC21'])"
   ]
  },
  {
   "cell_type": "code",
   "execution_count": 55,
   "id": "8ec4cf51",
   "metadata": {},
   "outputs": [
    {
     "data": {
      "text/html": [
       "<div>\n",
       "<style scoped>\n",
       "    .dataframe tbody tr th:only-of-type {\n",
       "        vertical-align: middle;\n",
       "    }\n",
       "\n",
       "    .dataframe tbody tr th {\n",
       "        vertical-align: top;\n",
       "    }\n",
       "\n",
       "    .dataframe thead th {\n",
       "        text-align: right;\n",
       "    }\n",
       "</style>\n",
       "<table border=\"1\" class=\"dataframe\">\n",
       "  <thead>\n",
       "    <tr style=\"text-align: right;\">\n",
       "      <th></th>\n",
       "      <th>PC1</th>\n",
       "      <th>PC2</th>\n",
       "      <th>PC3</th>\n",
       "      <th>PC4</th>\n",
       "      <th>PC5</th>\n",
       "      <th>PC6</th>\n",
       "      <th>PC7</th>\n",
       "      <th>PC8</th>\n",
       "      <th>PC9</th>\n",
       "      <th>PC10</th>\n",
       "      <th>PC11</th>\n",
       "      <th>PC12</th>\n",
       "      <th>PC13</th>\n",
       "      <th>PC14</th>\n",
       "      <th>PC15</th>\n",
       "      <th>PC16</th>\n",
       "      <th>PC17</th>\n",
       "      <th>PC18</th>\n",
       "      <th>PC19</th>\n",
       "      <th>PC20</th>\n",
       "      <th>PC21</th>\n",
       "    </tr>\n",
       "  </thead>\n",
       "  <tbody>\n",
       "    <tr>\n",
       "      <th>Lat</th>\n",
       "      <td>-0.002743</td>\n",
       "      <td>-0.023845</td>\n",
       "      <td>-0.012798</td>\n",
       "      <td>-0.709381</td>\n",
       "      <td>-0.082707</td>\n",
       "      <td>0.132650</td>\n",
       "      <td>-0.012403</td>\n",
       "      <td>-0.071136</td>\n",
       "      <td>0.002831</td>\n",
       "      <td>0.091843</td>\n",
       "      <td>0.020731</td>\n",
       "      <td>-0.016531</td>\n",
       "      <td>-0.007769</td>\n",
       "      <td>-0.092578</td>\n",
       "      <td>0.660783</td>\n",
       "      <td>0.095006</td>\n",
       "      <td>-0.049721</td>\n",
       "      <td>-0.005960</td>\n",
       "      <td>0.018043</td>\n",
       "      <td>-0.010690</td>\n",
       "      <td>0.001442</td>\n",
       "    </tr>\n",
       "    <tr>\n",
       "      <th>Lng</th>\n",
       "      <td>0.006610</td>\n",
       "      <td>0.011489</td>\n",
       "      <td>0.025363</td>\n",
       "      <td>0.175537</td>\n",
       "      <td>0.068258</td>\n",
       "      <td>-0.744696</td>\n",
       "      <td>-0.387639</td>\n",
       "      <td>0.028456</td>\n",
       "      <td>-0.050098</td>\n",
       "      <td>-0.258703</td>\n",
       "      <td>-0.059239</td>\n",
       "      <td>0.192201</td>\n",
       "      <td>0.058841</td>\n",
       "      <td>-0.074985</td>\n",
       "      <td>0.363005</td>\n",
       "      <td>0.068999</td>\n",
       "      <td>-0.040543</td>\n",
       "      <td>0.017176</td>\n",
       "      <td>0.000216</td>\n",
       "      <td>-0.024833</td>\n",
       "      <td>0.001521</td>\n",
       "    </tr>\n",
       "    <tr>\n",
       "      <th>Population</th>\n",
       "      <td>-0.001339</td>\n",
       "      <td>0.004471</td>\n",
       "      <td>0.019963</td>\n",
       "      <td>0.644486</td>\n",
       "      <td>0.059524</td>\n",
       "      <td>0.302944</td>\n",
       "      <td>0.241113</td>\n",
       "      <td>0.049064</td>\n",
       "      <td>0.089674</td>\n",
       "      <td>0.026132</td>\n",
       "      <td>0.013684</td>\n",
       "      <td>-0.137098</td>\n",
       "      <td>-0.005949</td>\n",
       "      <td>-0.168701</td>\n",
       "      <td>0.601964</td>\n",
       "      <td>0.097338</td>\n",
       "      <td>-0.015510</td>\n",
       "      <td>-0.001915</td>\n",
       "      <td>0.000285</td>\n",
       "      <td>-0.008557</td>\n",
       "      <td>-0.000095</td>\n",
       "    </tr>\n",
       "    <tr>\n",
       "      <th>Children</th>\n",
       "      <td>-0.000351</td>\n",
       "      <td>-0.001836</td>\n",
       "      <td>0.011201</td>\n",
       "      <td>-0.045143</td>\n",
       "      <td>0.042804</td>\n",
       "      <td>-0.516366</td>\n",
       "      <td>0.343090</td>\n",
       "      <td>0.016814</td>\n",
       "      <td>0.121360</td>\n",
       "      <td>0.414926</td>\n",
       "      <td>0.203983</td>\n",
       "      <td>-0.615264</td>\n",
       "      <td>0.030157</td>\n",
       "      <td>0.034512</td>\n",
       "      <td>0.000022</td>\n",
       "      <td>-0.035984</td>\n",
       "      <td>0.015399</td>\n",
       "      <td>0.009708</td>\n",
       "      <td>0.015702</td>\n",
       "      <td>-0.010060</td>\n",
       "      <td>-0.015761</td>\n",
       "    </tr>\n",
       "    <tr>\n",
       "      <th>Age</th>\n",
       "      <td>0.005084</td>\n",
       "      <td>-0.012958</td>\n",
       "      <td>-0.017013</td>\n",
       "      <td>0.020782</td>\n",
       "      <td>-0.053485</td>\n",
       "      <td>0.115897</td>\n",
       "      <td>-0.451734</td>\n",
       "      <td>0.514720</td>\n",
       "      <td>-0.124552</td>\n",
       "      <td>0.340916</td>\n",
       "      <td>-0.521081</td>\n",
       "      <td>-0.308130</td>\n",
       "      <td>0.099995</td>\n",
       "      <td>-0.065979</td>\n",
       "      <td>-0.008935</td>\n",
       "      <td>0.009418</td>\n",
       "      <td>0.004557</td>\n",
       "      <td>-0.015933</td>\n",
       "      <td>0.008158</td>\n",
       "      <td>0.016189</td>\n",
       "      <td>0.021454</td>\n",
       "    </tr>\n",
       "    <tr>\n",
       "      <th>Income</th>\n",
       "      <td>-0.001695</td>\n",
       "      <td>0.004590</td>\n",
       "      <td>0.024272</td>\n",
       "      <td>-0.058867</td>\n",
       "      <td>-0.025427</td>\n",
       "      <td>-0.092197</td>\n",
       "      <td>0.160589</td>\n",
       "      <td>0.326192</td>\n",
       "      <td>0.813582</td>\n",
       "      <td>0.127152</td>\n",
       "      <td>-0.182266</td>\n",
       "      <td>0.365864</td>\n",
       "      <td>-0.072003</td>\n",
       "      <td>0.015697</td>\n",
       "      <td>-0.005330</td>\n",
       "      <td>-0.061428</td>\n",
       "      <td>0.002042</td>\n",
       "      <td>0.001681</td>\n",
       "      <td>0.012837</td>\n",
       "      <td>0.004259</td>\n",
       "      <td>0.001346</td>\n",
       "    </tr>\n",
       "    <tr>\n",
       "      <th>Outage_sec_perweek</th>\n",
       "      <td>-0.013389</td>\n",
       "      <td>0.017755</td>\n",
       "      <td>-0.045899</td>\n",
       "      <td>-0.101813</td>\n",
       "      <td>0.692163</td>\n",
       "      <td>0.069588</td>\n",
       "      <td>0.065261</td>\n",
       "      <td>0.035041</td>\n",
       "      <td>0.035175</td>\n",
       "      <td>-0.009569</td>\n",
       "      <td>0.013882</td>\n",
       "      <td>0.066022</td>\n",
       "      <td>0.690736</td>\n",
       "      <td>-0.111534</td>\n",
       "      <td>-0.038375</td>\n",
       "      <td>0.012077</td>\n",
       "      <td>0.012156</td>\n",
       "      <td>-0.016873</td>\n",
       "      <td>0.010654</td>\n",
       "      <td>-0.003487</td>\n",
       "      <td>0.000572</td>\n",
       "    </tr>\n",
       "    <tr>\n",
       "      <th>Email</th>\n",
       "      <td>0.007398</td>\n",
       "      <td>-0.020356</td>\n",
       "      <td>-0.003043</td>\n",
       "      <td>0.152570</td>\n",
       "      <td>0.104344</td>\n",
       "      <td>0.001214</td>\n",
       "      <td>-0.264068</td>\n",
       "      <td>-0.460741</td>\n",
       "      <td>-0.017828</td>\n",
       "      <td>0.743886</td>\n",
       "      <td>0.038594</td>\n",
       "      <td>0.347683</td>\n",
       "      <td>-0.044305</td>\n",
       "      <td>0.058690</td>\n",
       "      <td>0.035952</td>\n",
       "      <td>-0.010093</td>\n",
       "      <td>0.010941</td>\n",
       "      <td>0.007554</td>\n",
       "      <td>-0.016638</td>\n",
       "      <td>0.000522</td>\n",
       "      <td>0.005413</td>\n",
       "    </tr>\n",
       "    <tr>\n",
       "      <th>Contacts</th>\n",
       "      <td>-0.008799</td>\n",
       "      <td>0.005077</td>\n",
       "      <td>-0.010909</td>\n",
       "      <td>0.032240</td>\n",
       "      <td>-0.006353</td>\n",
       "      <td>0.168602</td>\n",
       "      <td>-0.505665</td>\n",
       "      <td>0.268712</td>\n",
       "      <td>0.233107</td>\n",
       "      <td>-0.000349</td>\n",
       "      <td>0.754419</td>\n",
       "      <td>-0.117209</td>\n",
       "      <td>0.019265</td>\n",
       "      <td>0.049043</td>\n",
       "      <td>0.003474</td>\n",
       "      <td>-0.036957</td>\n",
       "      <td>0.000540</td>\n",
       "      <td>-0.024301</td>\n",
       "      <td>0.019713</td>\n",
       "      <td>-0.000989</td>\n",
       "      <td>-0.002701</td>\n",
       "    </tr>\n",
       "    <tr>\n",
       "      <th>Yearly_equip_failure</th>\n",
       "      <td>-0.008617</td>\n",
       "      <td>0.015935</td>\n",
       "      <td>0.007445</td>\n",
       "      <td>-0.020578</td>\n",
       "      <td>0.049673</td>\n",
       "      <td>-0.095083</td>\n",
       "      <td>0.324211</td>\n",
       "      <td>0.575115</td>\n",
       "      <td>-0.485935</td>\n",
       "      <td>0.235581</td>\n",
       "      <td>0.252554</td>\n",
       "      <td>0.424003</td>\n",
       "      <td>-0.114908</td>\n",
       "      <td>0.024719</td>\n",
       "      <td>0.044548</td>\n",
       "      <td>0.012907</td>\n",
       "      <td>0.012078</td>\n",
       "      <td>-0.000369</td>\n",
       "      <td>0.007059</td>\n",
       "      <td>-0.021294</td>\n",
       "      <td>-0.002303</td>\n",
       "    </tr>\n",
       "    <tr>\n",
       "      <th>Tenure</th>\n",
       "      <td>-0.011137</td>\n",
       "      <td>0.700982</td>\n",
       "      <td>-0.069667</td>\n",
       "      <td>-0.003031</td>\n",
       "      <td>-0.059291</td>\n",
       "      <td>0.009528</td>\n",
       "      <td>-0.012717</td>\n",
       "      <td>-0.009792</td>\n",
       "      <td>-0.002763</td>\n",
       "      <td>0.022199</td>\n",
       "      <td>-0.016054</td>\n",
       "      <td>0.006682</td>\n",
       "      <td>0.037938</td>\n",
       "      <td>-0.000575</td>\n",
       "      <td>0.010148</td>\n",
       "      <td>-0.009879</td>\n",
       "      <td>-0.007406</td>\n",
       "      <td>-0.012581</td>\n",
       "      <td>0.007124</td>\n",
       "      <td>0.004475</td>\n",
       "      <td>-0.705015</td>\n",
       "    </tr>\n",
       "    <tr>\n",
       "      <th>MonthlyCharge</th>\n",
       "      <td>-0.000175</td>\n",
       "      <td>0.045380</td>\n",
       "      <td>-0.021544</td>\n",
       "      <td>-0.076325</td>\n",
       "      <td>0.692061</td>\n",
       "      <td>0.035826</td>\n",
       "      <td>-0.088752</td>\n",
       "      <td>0.026823</td>\n",
       "      <td>0.017526</td>\n",
       "      <td>-0.075048</td>\n",
       "      <td>-0.079938</td>\n",
       "      <td>-0.128162</td>\n",
       "      <td>-0.684645</td>\n",
       "      <td>0.046905</td>\n",
       "      <td>0.008075</td>\n",
       "      <td>0.004992</td>\n",
       "      <td>0.016813</td>\n",
       "      <td>0.000730</td>\n",
       "      <td>0.017759</td>\n",
       "      <td>-0.013005</td>\n",
       "      <td>-0.047662</td>\n",
       "    </tr>\n",
       "    <tr>\n",
       "      <th>Bandwidth_GB_Year</th>\n",
       "      <td>-0.012753</td>\n",
       "      <td>0.702740</td>\n",
       "      <td>-0.071834</td>\n",
       "      <td>-0.009730</td>\n",
       "      <td>-0.010665</td>\n",
       "      <td>-0.001137</td>\n",
       "      <td>0.004384</td>\n",
       "      <td>-0.016344</td>\n",
       "      <td>0.003894</td>\n",
       "      <td>0.011198</td>\n",
       "      <td>0.002911</td>\n",
       "      <td>-0.009659</td>\n",
       "      <td>-0.010433</td>\n",
       "      <td>0.012574</td>\n",
       "      <td>0.008627</td>\n",
       "      <td>0.002133</td>\n",
       "      <td>-0.003337</td>\n",
       "      <td>-0.002180</td>\n",
       "      <td>-0.007611</td>\n",
       "      <td>0.007496</td>\n",
       "      <td>0.706838</td>\n",
       "    </tr>\n",
       "    <tr>\n",
       "      <th>item1</th>\n",
       "      <td>0.458842</td>\n",
       "      <td>0.031449</td>\n",
       "      <td>0.280643</td>\n",
       "      <td>-0.018488</td>\n",
       "      <td>0.028150</td>\n",
       "      <td>-0.007525</td>\n",
       "      <td>0.001499</td>\n",
       "      <td>0.008175</td>\n",
       "      <td>-0.015603</td>\n",
       "      <td>-0.003434</td>\n",
       "      <td>0.022731</td>\n",
       "      <td>0.002100</td>\n",
       "      <td>-0.005372</td>\n",
       "      <td>-0.075795</td>\n",
       "      <td>0.022842</td>\n",
       "      <td>-0.111823</td>\n",
       "      <td>0.044575</td>\n",
       "      <td>0.025084</td>\n",
       "      <td>-0.241114</td>\n",
       "      <td>0.792537</td>\n",
       "      <td>-0.003439</td>\n",
       "    </tr>\n",
       "    <tr>\n",
       "      <th>item2</th>\n",
       "      <td>0.434542</td>\n",
       "      <td>0.041957</td>\n",
       "      <td>0.280519</td>\n",
       "      <td>-0.026758</td>\n",
       "      <td>0.011503</td>\n",
       "      <td>0.022390</td>\n",
       "      <td>-0.011540</td>\n",
       "      <td>0.009724</td>\n",
       "      <td>0.000671</td>\n",
       "      <td>0.001564</td>\n",
       "      <td>0.007552</td>\n",
       "      <td>-0.013006</td>\n",
       "      <td>0.001590</td>\n",
       "      <td>-0.110622</td>\n",
       "      <td>-0.001850</td>\n",
       "      <td>-0.166311</td>\n",
       "      <td>0.068986</td>\n",
       "      <td>0.069353</td>\n",
       "      <td>-0.591813</td>\n",
       "      <td>-0.573754</td>\n",
       "      <td>-0.002697</td>\n",
       "    </tr>\n",
       "    <tr>\n",
       "      <th>item3</th>\n",
       "      <td>0.400958</td>\n",
       "      <td>0.033140</td>\n",
       "      <td>0.280267</td>\n",
       "      <td>-0.003532</td>\n",
       "      <td>-0.010060</td>\n",
       "      <td>0.000809</td>\n",
       "      <td>-0.004121</td>\n",
       "      <td>-0.033235</td>\n",
       "      <td>-0.026675</td>\n",
       "      <td>-0.002297</td>\n",
       "      <td>-0.003077</td>\n",
       "      <td>0.014358</td>\n",
       "      <td>-0.010673</td>\n",
       "      <td>-0.176543</td>\n",
       "      <td>-0.001552</td>\n",
       "      <td>-0.250881</td>\n",
       "      <td>0.156215</td>\n",
       "      <td>-0.389603</td>\n",
       "      <td>0.675177</td>\n",
       "      <td>-0.175839</td>\n",
       "      <td>0.014649</td>\n",
       "    </tr>\n",
       "    <tr>\n",
       "      <th>item4</th>\n",
       "      <td>0.145487</td>\n",
       "      <td>-0.049285</td>\n",
       "      <td>-0.567264</td>\n",
       "      <td>0.004272</td>\n",
       "      <td>-0.028825</td>\n",
       "      <td>-0.012821</td>\n",
       "      <td>-0.005048</td>\n",
       "      <td>-0.006544</td>\n",
       "      <td>-0.019363</td>\n",
       "      <td>-0.020765</td>\n",
       "      <td>0.004446</td>\n",
       "      <td>0.014547</td>\n",
       "      <td>-0.018891</td>\n",
       "      <td>-0.184196</td>\n",
       "      <td>0.070236</td>\n",
       "      <td>-0.464407</td>\n",
       "      <td>0.447805</td>\n",
       "      <td>0.435893</td>\n",
       "      <td>0.081756</td>\n",
       "      <td>0.019644</td>\n",
       "      <td>0.001747</td>\n",
       "    </tr>\n",
       "    <tr>\n",
       "      <th>item5</th>\n",
       "      <td>-0.175312</td>\n",
       "      <td>0.064207</td>\n",
       "      <td>0.585621</td>\n",
       "      <td>-0.015300</td>\n",
       "      <td>0.020694</td>\n",
       "      <td>0.039733</td>\n",
       "      <td>-0.023150</td>\n",
       "      <td>0.005373</td>\n",
       "      <td>-0.007718</td>\n",
       "      <td>-0.005049</td>\n",
       "      <td>-0.010243</td>\n",
       "      <td>-0.012031</td>\n",
       "      <td>0.040890</td>\n",
       "      <td>0.133124</td>\n",
       "      <td>0.015974</td>\n",
       "      <td>0.063525</td>\n",
       "      <td>0.205429</td>\n",
       "      <td>0.695517</td>\n",
       "      <td>0.260105</td>\n",
       "      <td>-0.041934</td>\n",
       "      <td>-0.002840</td>\n",
       "    </tr>\n",
       "    <tr>\n",
       "      <th>item6</th>\n",
       "      <td>0.404773</td>\n",
       "      <td>-0.010541</td>\n",
       "      <td>-0.184409</td>\n",
       "      <td>0.013941</td>\n",
       "      <td>0.008157</td>\n",
       "      <td>0.015234</td>\n",
       "      <td>0.012613</td>\n",
       "      <td>0.009491</td>\n",
       "      <td>0.004988</td>\n",
       "      <td>0.021117</td>\n",
       "      <td>0.015303</td>\n",
       "      <td>-0.001152</td>\n",
       "      <td>-0.007838</td>\n",
       "      <td>-0.055309</td>\n",
       "      <td>-0.066780</td>\n",
       "      <td>0.046486</td>\n",
       "      <td>-0.757294</td>\n",
       "      <td>0.400476</td>\n",
       "      <td>0.229402</td>\n",
       "      <td>-0.065957</td>\n",
       "      <td>0.001454</td>\n",
       "    </tr>\n",
       "    <tr>\n",
       "      <th>item7</th>\n",
       "      <td>0.357947</td>\n",
       "      <td>-0.002153</td>\n",
       "      <td>-0.181951</td>\n",
       "      <td>-0.016042</td>\n",
       "      <td>-0.033028</td>\n",
       "      <td>-0.018987</td>\n",
       "      <td>0.000998</td>\n",
       "      <td>0.004748</td>\n",
       "      <td>0.058498</td>\n",
       "      <td>0.024465</td>\n",
       "      <td>0.038679</td>\n",
       "      <td>0.009358</td>\n",
       "      <td>-0.027924</td>\n",
       "      <td>-0.144126</td>\n",
       "      <td>-0.133844</td>\n",
       "      <td>0.802847</td>\n",
       "      <td>0.369110</td>\n",
       "      <td>0.068655</td>\n",
       "      <td>0.068714</td>\n",
       "      <td>-0.040923</td>\n",
       "      <td>-0.006789</td>\n",
       "    </tr>\n",
       "    <tr>\n",
       "      <th>item8</th>\n",
       "      <td>0.308623</td>\n",
       "      <td>-0.016854</td>\n",
       "      <td>-0.131029</td>\n",
       "      <td>0.043098</td>\n",
       "      <td>0.033368</td>\n",
       "      <td>0.030167</td>\n",
       "      <td>0.012322</td>\n",
       "      <td>0.033087</td>\n",
       "      <td>-0.009489</td>\n",
       "      <td>-0.051696</td>\n",
       "      <td>-0.076216</td>\n",
       "      <td>-0.022173</td>\n",
       "      <td>0.119968</td>\n",
       "      <td>0.897589</td>\n",
       "      <td>0.189815</td>\n",
       "      <td>-0.011695</td>\n",
       "      <td>0.104896</td>\n",
       "      <td>-0.046348</td>\n",
       "      <td>0.044898</td>\n",
       "      <td>-0.041290</td>\n",
       "      <td>-0.003479</td>\n",
       "    </tr>\n",
       "  </tbody>\n",
       "</table>\n",
       "</div>"
      ],
      "text/plain": [
       "                           PC1       PC2       PC3       PC4       PC5  \\\n",
       "Lat                  -0.002743 -0.023845 -0.012798 -0.709381 -0.082707   \n",
       "Lng                   0.006610  0.011489  0.025363  0.175537  0.068258   \n",
       "Population           -0.001339  0.004471  0.019963  0.644486  0.059524   \n",
       "Children             -0.000351 -0.001836  0.011201 -0.045143  0.042804   \n",
       "Age                   0.005084 -0.012958 -0.017013  0.020782 -0.053485   \n",
       "Income               -0.001695  0.004590  0.024272 -0.058867 -0.025427   \n",
       "Outage_sec_perweek   -0.013389  0.017755 -0.045899 -0.101813  0.692163   \n",
       "Email                 0.007398 -0.020356 -0.003043  0.152570  0.104344   \n",
       "Contacts             -0.008799  0.005077 -0.010909  0.032240 -0.006353   \n",
       "Yearly_equip_failure -0.008617  0.015935  0.007445 -0.020578  0.049673   \n",
       "Tenure               -0.011137  0.700982 -0.069667 -0.003031 -0.059291   \n",
       "MonthlyCharge        -0.000175  0.045380 -0.021544 -0.076325  0.692061   \n",
       "Bandwidth_GB_Year    -0.012753  0.702740 -0.071834 -0.009730 -0.010665   \n",
       "item1                 0.458842  0.031449  0.280643 -0.018488  0.028150   \n",
       "item2                 0.434542  0.041957  0.280519 -0.026758  0.011503   \n",
       "item3                 0.400958  0.033140  0.280267 -0.003532 -0.010060   \n",
       "item4                 0.145487 -0.049285 -0.567264  0.004272 -0.028825   \n",
       "item5                -0.175312  0.064207  0.585621 -0.015300  0.020694   \n",
       "item6                 0.404773 -0.010541 -0.184409  0.013941  0.008157   \n",
       "item7                 0.357947 -0.002153 -0.181951 -0.016042 -0.033028   \n",
       "item8                 0.308623 -0.016854 -0.131029  0.043098  0.033368   \n",
       "\n",
       "                           PC6       PC7       PC8       PC9      PC10  \\\n",
       "Lat                   0.132650 -0.012403 -0.071136  0.002831  0.091843   \n",
       "Lng                  -0.744696 -0.387639  0.028456 -0.050098 -0.258703   \n",
       "Population            0.302944  0.241113  0.049064  0.089674  0.026132   \n",
       "Children             -0.516366  0.343090  0.016814  0.121360  0.414926   \n",
       "Age                   0.115897 -0.451734  0.514720 -0.124552  0.340916   \n",
       "Income               -0.092197  0.160589  0.326192  0.813582  0.127152   \n",
       "Outage_sec_perweek    0.069588  0.065261  0.035041  0.035175 -0.009569   \n",
       "Email                 0.001214 -0.264068 -0.460741 -0.017828  0.743886   \n",
       "Contacts              0.168602 -0.505665  0.268712  0.233107 -0.000349   \n",
       "Yearly_equip_failure -0.095083  0.324211  0.575115 -0.485935  0.235581   \n",
       "Tenure                0.009528 -0.012717 -0.009792 -0.002763  0.022199   \n",
       "MonthlyCharge         0.035826 -0.088752  0.026823  0.017526 -0.075048   \n",
       "Bandwidth_GB_Year    -0.001137  0.004384 -0.016344  0.003894  0.011198   \n",
       "item1                -0.007525  0.001499  0.008175 -0.015603 -0.003434   \n",
       "item2                 0.022390 -0.011540  0.009724  0.000671  0.001564   \n",
       "item3                 0.000809 -0.004121 -0.033235 -0.026675 -0.002297   \n",
       "item4                -0.012821 -0.005048 -0.006544 -0.019363 -0.020765   \n",
       "item5                 0.039733 -0.023150  0.005373 -0.007718 -0.005049   \n",
       "item6                 0.015234  0.012613  0.009491  0.004988  0.021117   \n",
       "item7                -0.018987  0.000998  0.004748  0.058498  0.024465   \n",
       "item8                 0.030167  0.012322  0.033087 -0.009489 -0.051696   \n",
       "\n",
       "                          PC11      PC12      PC13      PC14      PC15  \\\n",
       "Lat                   0.020731 -0.016531 -0.007769 -0.092578  0.660783   \n",
       "Lng                  -0.059239  0.192201  0.058841 -0.074985  0.363005   \n",
       "Population            0.013684 -0.137098 -0.005949 -0.168701  0.601964   \n",
       "Children              0.203983 -0.615264  0.030157  0.034512  0.000022   \n",
       "Age                  -0.521081 -0.308130  0.099995 -0.065979 -0.008935   \n",
       "Income               -0.182266  0.365864 -0.072003  0.015697 -0.005330   \n",
       "Outage_sec_perweek    0.013882  0.066022  0.690736 -0.111534 -0.038375   \n",
       "Email                 0.038594  0.347683 -0.044305  0.058690  0.035952   \n",
       "Contacts              0.754419 -0.117209  0.019265  0.049043  0.003474   \n",
       "Yearly_equip_failure  0.252554  0.424003 -0.114908  0.024719  0.044548   \n",
       "Tenure               -0.016054  0.006682  0.037938 -0.000575  0.010148   \n",
       "MonthlyCharge        -0.079938 -0.128162 -0.684645  0.046905  0.008075   \n",
       "Bandwidth_GB_Year     0.002911 -0.009659 -0.010433  0.012574  0.008627   \n",
       "item1                 0.022731  0.002100 -0.005372 -0.075795  0.022842   \n",
       "item2                 0.007552 -0.013006  0.001590 -0.110622 -0.001850   \n",
       "item3                -0.003077  0.014358 -0.010673 -0.176543 -0.001552   \n",
       "item4                 0.004446  0.014547 -0.018891 -0.184196  0.070236   \n",
       "item5                -0.010243 -0.012031  0.040890  0.133124  0.015974   \n",
       "item6                 0.015303 -0.001152 -0.007838 -0.055309 -0.066780   \n",
       "item7                 0.038679  0.009358 -0.027924 -0.144126 -0.133844   \n",
       "item8                -0.076216 -0.022173  0.119968  0.897589  0.189815   \n",
       "\n",
       "                          PC16      PC17      PC18      PC19      PC20  \\\n",
       "Lat                   0.095006 -0.049721 -0.005960  0.018043 -0.010690   \n",
       "Lng                   0.068999 -0.040543  0.017176  0.000216 -0.024833   \n",
       "Population            0.097338 -0.015510 -0.001915  0.000285 -0.008557   \n",
       "Children             -0.035984  0.015399  0.009708  0.015702 -0.010060   \n",
       "Age                   0.009418  0.004557 -0.015933  0.008158  0.016189   \n",
       "Income               -0.061428  0.002042  0.001681  0.012837  0.004259   \n",
       "Outage_sec_perweek    0.012077  0.012156 -0.016873  0.010654 -0.003487   \n",
       "Email                -0.010093  0.010941  0.007554 -0.016638  0.000522   \n",
       "Contacts             -0.036957  0.000540 -0.024301  0.019713 -0.000989   \n",
       "Yearly_equip_failure  0.012907  0.012078 -0.000369  0.007059 -0.021294   \n",
       "Tenure               -0.009879 -0.007406 -0.012581  0.007124  0.004475   \n",
       "MonthlyCharge         0.004992  0.016813  0.000730  0.017759 -0.013005   \n",
       "Bandwidth_GB_Year     0.002133 -0.003337 -0.002180 -0.007611  0.007496   \n",
       "item1                -0.111823  0.044575  0.025084 -0.241114  0.792537   \n",
       "item2                -0.166311  0.068986  0.069353 -0.591813 -0.573754   \n",
       "item3                -0.250881  0.156215 -0.389603  0.675177 -0.175839   \n",
       "item4                -0.464407  0.447805  0.435893  0.081756  0.019644   \n",
       "item5                 0.063525  0.205429  0.695517  0.260105 -0.041934   \n",
       "item6                 0.046486 -0.757294  0.400476  0.229402 -0.065957   \n",
       "item7                 0.802847  0.369110  0.068655  0.068714 -0.040923   \n",
       "item8                -0.011695  0.104896 -0.046348  0.044898 -0.041290   \n",
       "\n",
       "                          PC21  \n",
       "Lat                   0.001442  \n",
       "Lng                   0.001521  \n",
       "Population           -0.000095  \n",
       "Children             -0.015761  \n",
       "Age                   0.021454  \n",
       "Income                0.001346  \n",
       "Outage_sec_perweek    0.000572  \n",
       "Email                 0.005413  \n",
       "Contacts             -0.002701  \n",
       "Yearly_equip_failure -0.002303  \n",
       "Tenure               -0.705015  \n",
       "MonthlyCharge        -0.047662  \n",
       "Bandwidth_GB_Year     0.706838  \n",
       "item1                -0.003439  \n",
       "item2                -0.002697  \n",
       "item3                 0.014649  \n",
       "item4                 0.001747  \n",
       "item5                -0.002840  \n",
       "item6                 0.001454  \n",
       "item7                -0.006789  \n",
       "item8                -0.003479  "
      ]
     },
     "execution_count": 55,
     "metadata": {},
     "output_type": "execute_result"
    }
   ],
   "source": [
    "pd.set_option('display.max_columns', None)\n",
    "loadings = pd.DataFrame(pca.components_.T,\n",
    "                        columns =['PC1','PC2','PC3','PC4','PC5','PC6','PC7','PC8','PC9','PC10','PC11','PC12','PC13','PC14','PC15','PC16','PC17','PC18','PC19','PC20','PC21'],\n",
    "                        index = pca_df_normalized.columns)\n",
    "loadings"
   ]
  },
  {
   "cell_type": "code",
   "execution_count": 56,
   "id": "681f4614",
   "metadata": {},
   "outputs": [
    {
     "data": {
      "text/plain": [
       "[2.945261775965848,\n",
       " 1.9000110270367212,\n",
       " 1.6388641485288282,\n",
       " 1.2393413761075498,\n",
       " 1.1317600562680425,\n",
       " 1.0495805669018088,\n",
       " 1.038718806652489,\n",
       " 1.0150838041984123,\n",
       " 1.0053462533839772,\n",
       " 0.9869253015533936,\n",
       " 0.9801747537697965,\n",
       " 0.9620879883656076,\n",
       " 0.864810724246066,\n",
       " 0.779343253495618,\n",
       " 0.7322003007699835,\n",
       " 0.689879240052717,\n",
       " 0.5925412953537149,\n",
       " 0.5369779529356058,\n",
       " 0.4816266660285105,\n",
       " 0.3241672754814431,\n",
       " 0.10317686337970466]"
      ]
     },
     "execution_count": 56,
     "metadata": {},
     "output_type": "execute_result"
    }
   ],
   "source": [
    "cov_matrix = np.dot(pca_df_normalized.T, pca_df_normalized) / pca_df.shape[0]\n",
    "eigenvalues = [np.dot(eigenvector.T, np.dot(cov_matrix, eigenvector)) for eigenvector in pca.components_]\n",
    "eigenvalues"
   ]
  },
  {
   "cell_type": "code",
   "execution_count": 57,
   "id": "a25c6fff",
   "metadata": {},
   "outputs": [
    {
     "data": {
      "image/png": "[encoded data removed]",
      "text/plain": [
       "<Figure size 640x480 with 1 Axes>"
      ]
     },
     "metadata": {},
     "output_type": "display_data"
    }
   ],
   "source": [
    "plt.plot(eigenvalues)\n",
    "plt.xlabel('number of components')\n",
    "plt.ylabel('eigenvalue')\n",
    "plt.axhline(y = 1, color = 'red')\n",
    "plt.axvline(x=8,color = 'green')\n",
    "plt.show() "
   ]
  },
  {
   "cell_type": "code",
   "execution_count": 58,
   "id": "9d7c3cb4",
   "metadata": {},
   "outputs": [],
   "source": [
    "new_df.to_csv('clean_churn_file.csv', index=False)"
   ]
  },
  {
   "cell_type": "code",
   "execution_count": null,
   "id": "38c235c0",
   "metadata": {},
   "outputs": [],
   "source": []
  },
  {
   "cell_type": "code",
   "execution_count": null,
   "id": "416db908",
   "metadata": {},
   "outputs": [],
   "source": []
  }
 ],
 "metadata": {
  "kernelspec": {
   "display_name": "Python 3 (ipykernel)",
   "language": "python",
   "name": "python3"
  },
  "language_info": {
   "codemirror_mode": {
    "name": "ipython",
    "version": 3
   },
   "file_extension": ".py",
   "mimetype": "text/x-python",
   "name": "python",
   "nbconvert_exporter": "python",
   "pygments_lexer": "ipython3",
   "version": "3.9.13"
  }
 },
 "nbformat": 4,
 "nbformat_minor": 5
}
