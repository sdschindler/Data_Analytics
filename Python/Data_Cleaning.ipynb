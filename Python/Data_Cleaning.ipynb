{
 "cells": [
  {
   "cell_type": "code",
   "execution_count": 1,
   "id": "673b3d5e",
   "metadata": {
    "scrolled": true
   },
   "outputs": [
    {
     "data": {
      "text/plain": [
       "CaseOrder               0\n",
       "Outage_sec_perweek      0\n",
       "Yearly_equip_failure    0\n",
       "InternetService         0\n",
       "Bandwidth_GB_Year       0\n",
       "Population              0\n",
       "Area                    0\n",
       "Tenure                  0\n",
       "dtype: int64"
      ]
     },
     "execution_count": 1,
     "metadata": {},
     "output_type": "execute_result"
    }
   ],
   "source": [
    "# import the numpy and pandas libraries\n",
    "import numpy as np\n",
    "import pandas as pd\n",
    "import string as str\n",
    "from scipy import stats\n",
    "\n",
    "#read in the churn data set as a pandas dataframe\n",
    "df = pd.read_csv('churn_clean.csv')\n",
    "\n",
    "#new dataframe for the variables that are needed and the CaseOrder variable for identification.\n",
    "new_df = pd.DataFrame().assign(CaseOrder=df['CaseOrder'],\n",
    "                               Outage_sec_perweek=df['Outage_sec_perweek'], \n",
    "                               Yearly_equip_failure=df['Yearly_equip_failure'],\n",
    "                               InternetService=df['InternetService'],\n",
    "                               Bandwidth_GB_Year=df['Bandwidth_GB_Year'],\n",
    "                               Population=df['Population'],\n",
    "                               Area=df['Area'],\n",
    "                               Tenure=df['Tenure']\n",
    "                              )\n",
    "\n",
    "new_df.isna().sum()"
   ]
  },
  {
   "cell_type": "code",
   "execution_count": 2,
   "id": "8f8793a4",
   "metadata": {},
   "outputs": [],
   "source": [
    "\n",
    "#strips leading and trailing spaces\n",
    "string_list = list(new_df.select_dtypes(include = {'object'}))\n",
    "for i in string_list:\n",
    "    new_df[i] = new_df[i].str.strip()\n"
   ]
  },
  {
   "cell_type": "code",
   "execution_count": 3,
   "id": "215f3402",
   "metadata": {},
   "outputs": [
    {
     "name": "stdout",
     "output_type": "stream",
     "text": [
      "Population number of outliers is  219 ,\n",
      "\n",
      "Population min is  0 max is  111850 \n",
      "\n",
      "Outage_sec_perweek number of outliers is  28 ,\n",
      "\n",
      "Outage_sec_perweek min is  0.09974694 max is  21.20723 \n",
      "\n",
      "Yearly_equip_failure number of outliers is  94 ,\n",
      "\n",
      "Yearly_equip_failure min is  0 max is  6 \n",
      "\n",
      "Bandwidth_GB_Year number of outliers is  0 ,\n",
      "\n",
      "Bandwidth_GB_Year min is  155.5067148 max is  7158.98153 \n",
      "\n",
      "Tenure number of outliers is  0 ,\n",
      "\n",
      "Tenure min is  1.00025934 max is  71.99928 \n",
      "\n"
     ]
    }
   ],
   "source": [
    "col_num_names = ['Population','Outage_sec_perweek','Yearly_equip_failure','Bandwidth_GB_Year','Tenure']\n",
    "\n",
    "\n",
    "#Find min max of the numeric datatypes except CaseOrder as well as number of outliers.\n",
    "for i in col_num_names:\n",
    "    #check for outliers using zscore\n",
    "    new_df_count = new_df[(np.abs(stats.zscore(new_df[i])) < 3)].count()\n",
    "    print(new_df[i].name,\"number of outliers is \",10000 - new_df_count[i], \",\\n\")\n",
    "    print(new_df[i].name,\"min is \", new_df[i].min(),\"max is \",new_df[i].max(),\"\\n\")\n",
    "    "
   ]
  },
  {
   "cell_type": "code",
   "execution_count": 4,
   "id": "c60b4e28",
   "metadata": {},
   "outputs": [
    {
     "data": {
      "text/plain": [
       "97"
      ]
     },
     "execution_count": 4,
     "metadata": {},
     "output_type": "execute_result"
    }
   ],
   "source": [
    "#population cannot be zero.\n",
    "count = (new_df['Population']==0).sum()\n",
    "count\n"
   ]
  },
  {
   "cell_type": "code",
   "execution_count": 5,
   "id": "7a97aa4a",
   "metadata": {},
   "outputs": [],
   "source": [
    "#less than 1 percent of the data so we can remove the zeros from population\n",
    "new_df.drop(new_df[new_df['Population'] == 0].index, inplace = True)"
   ]
  },
  {
   "cell_type": "code",
   "execution_count": 6,
   "id": "f9175f96",
   "metadata": {},
   "outputs": [],
   "source": [
    "new_df.to_csv('/Users/stevenschindler/Documents/R/D208/clean_churn_file.csv', index=False)\n"
   ]
  },
  {
   "cell_type": "code",
   "execution_count": 7,
   "id": "ad9d6f0c",
   "metadata": {},
   "outputs": [
    {
     "data": {
      "text/plain": [
       "'3.9.13 (main, Aug 25 2022, 18:29:29) \\n[Clang 12.0.0 ]'"
      ]
     },
     "execution_count": 7,
     "metadata": {},
     "output_type": "execute_result"
    }
   ],
   "source": [
    "import sys\n",
    "sys.version"
   ]
  },
  {
   "cell_type": "code",
   "execution_count": null,
   "id": "3a216e99",
   "metadata": {},
   "outputs": [],
   "source": []
  },
  {
   "cell_type": "code",
   "execution_count": null,
   "id": "20ace276",
   "metadata": {},
   "outputs": [],
   "source": []
  }
 ],
 "metadata": {
  "kernelspec": {
   "display_name": "Python 3 (ipykernel)",
   "language": "python",
   "name": "python3"
  },
  "language_info": {
   "codemirror_mode": {
    "name": "ipython",
    "version": 3
   },
   "file_extension": ".py",
   "mimetype": "text/x-python",
   "name": "python",
   "nbconvert_exporter": "python",
   "pygments_lexer": "ipython3",
   "version": "3.11.7"
  }
 },
 "nbformat": 4,
 "nbformat_minor": 5
}
